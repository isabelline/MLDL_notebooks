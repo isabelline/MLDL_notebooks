{
  "nbformat": 4,
  "nbformat_minor": 0,
  "metadata": {
    "colab": {
      "name": "continent_logistic_regression_RELU",
      "provenance": [],
      "machine_shape": "hm",
      "include_colab_link": true
    },
    "kernelspec": {
      "name": "python3",
      "display_name": "Python 3"
    },
    "accelerator": "GPU"
  },
  "cells": [
    {
      "cell_type": "markdown",
      "metadata": {
        "id": "view-in-github",
        "colab_type": "text"
      },
      "source": [
        "<a href=\"https://colab.research.google.com/github/isabelline/MLDL_notebooks/blob/master/continent_logistic_regression_RELU.ipynb\" target=\"_parent\"><img src=\"https://colab.research.google.com/assets/colab-badge.svg\" alt=\"Open In Colab\"/></a>"
      ]
    },
    {
      "cell_type": "code",
      "metadata": {
        "id": "3usl-177IpEY",
        "colab_type": "code",
        "colab": {}
      },
      "source": [
        "db = \"'AD','Europe','AE','Asia','AF','Asia','AG','North America','AI','North America','AL','Europe','AM','Asia','AN','North America','AO','Africa','AQ','Antarctica','AR','South America','AS','Australia','AT','Europe','AU','Australia','AW','North America','AZ','Asia','BA','Europe','BB','North America','BD','Asia','BE','Europe','BF','Africa','BG','Europe','BH','Asia','BI','Africa','BJ','Africa','BM','North America','BN','Asia','BO','South America','BR','South America','BS','North America','BT','Asia','BW','Africa','BY','Europe','BZ','North America','CA','North America','CC','Asia','CD','Africa','CF','Africa','CG','Africa','CH','Europe','CI','Africa','CK','Australia','CL','South America','CM','Africa','CN','Asia','CO','South America','CR','North America','CU','North America','CV','Africa','CX','Asia','CY','Asia','CZ','Europe','DE','Europe','DJ','Africa','DK','Europe','DM','North America','DO','North America','DZ','Africa','EC','South America','EE','Europe','EG','Africa','EH','Africa','ER','Africa','ES','Europe','ET','Africa','FI','Europe','FJ','Australia','FK','South America','FM','Australia','FO','Europe','FR','Europe','GA','Africa','GB','Europe','GD','North America','GE','Asia','GF','South America','GG','Europe','GH','Africa','GI','Europe','GL','North America','GM','Africa','GN','Africa','GP','North America','GQ','Africa','GR','Europe','GS','Antarctica','GT','North America','GU','Australia','GW','Africa','GY','South America','HK','Asia','HN','North America','HR','Europe','HT','North America','HU','Europe','ID','Asia','IE','Europe','IL','Asia','IM','Europe','IN','Asia','IO','Asia','IQ','Asia','IR','Asia','IS','Europe','IT','Europe','JE','Europe','JM','North America','JO','Asia','JP','Asia','KE','Africa','KG','Asia','KH','Asia','KI','Australia','KM','Africa','KN','North America','KP','Asia','KR','Asia','KW','Asia','KY','North America','KZ','Asia','LA','Asia','LB','Asia','LC','North America','LI','Europe','LK','Asia','LR','Africa','LS','Africa','LT','Europe','LU','Europe','LV','Europe','LY','Africa','MA','Africa','MC','Europe','MD','Europe','ME','Europe','MG','Africa','MH','Australia','MK','Europe','ML','Africa','MM','Asia','MN','Asia','MO','Asia','MP','Australia','MQ','North America','MR','Africa','MS','North America','MT','Europe','MU','Africa','MV','Asia','MW','Africa','MX','North America','MY','Asia','MZ','Africa','NA','Africa','NC','Australia','NE','Africa','NF','Australia','NG','Africa','NI','North America','NL','Europe','NO','Europe','NP','Asia','NR','Australia','NU','Australia','NZ','Australia','OM','Asia','PA','North America','PE','South America','PF','Australia','PG','Australia','PH','Asia','PK','Asia','PL','Europe','PM','North America','PN','Australia','PR','North America','PS','Asia','PT','Europe','PW','Australia','PY','South America','QA','Asia','RE','Africa','RO','Europe','RS','Europe','RU','Europe','RW','Africa','SA','Asia','SB','Australia','SC','Africa','SD','Africa','SE','Europe','SG','Asia','SH','Africa','SI','Europe','SJ','Europe','SK','Europe','SL','Africa','SM','Europe','SN','Africa','SO','Africa','SR','South America','ST','Africa','SV','North America','SY','Asia','SZ','Africa','TC','North America','TD','Africa','TF','Antarctica','TG','Africa','TH','Asia','TJ','Asia','TK','Australia','TM','Asia','TN','Africa','TO','Australia','TR','Asia','TT','North America','TV','Australia','TW','Asia','TZ','Africa','UA','Europe','UG','Africa','US','North America','UY','South America','UZ','Asia','VC','North America','VE','South America','VG','North America','VI','North America','VN','Asia','VU','Australia','WF','Australia','WS','Australia','YE','Asia','YT','Africa','ZA','Africa','ZM','Africa','ZW','Africa'\""
      ],
      "execution_count": 0,
      "outputs": []
    },
    {
      "cell_type": "code",
      "metadata": {
        "id": "kdTikAVJI_Qm",
        "colab_type": "code",
        "colab": {}
      },
      "source": [
        "tokens = db.split(\",\")"
      ],
      "execution_count": 0,
      "outputs": []
    },
    {
      "cell_type": "code",
      "metadata": {
        "id": "1Lwfac__Kzzf",
        "colab_type": "code",
        "outputId": "6d75e47a-b574-4993-b081-d4ae8fc457c6",
        "colab": {
          "base_uri": "https://localhost:8080/",
          "height": 34
        }
      },
      "source": [
        "tokens[:5]"
      ],
      "execution_count": 3,
      "outputs": [
        {
          "output_type": "execute_result",
          "data": {
            "text/plain": [
              "[\"'AD'\", \"'Europe'\", \"'AE'\", \"'Asia'\", \"'AF'\"]"
            ]
          },
          "metadata": {
            "tags": []
          },
          "execution_count": 3
        }
      ]
    },
    {
      "cell_type": "code",
      "metadata": {
        "id": "iZkRCORRLVf8",
        "colab_type": "code",
        "outputId": "3d88aa93-32c7-423d-d9b2-16d872b4a810",
        "colab": {
          "base_uri": "https://localhost:8080/",
          "height": 102
        }
      },
      "source": [
        "for i in range(0,10,2):\n",
        "  print(i)"
      ],
      "execution_count": 4,
      "outputs": [
        {
          "output_type": "stream",
          "text": [
            "0\n",
            "2\n",
            "4\n",
            "6\n",
            "8\n"
          ],
          "name": "stdout"
        }
      ]
    },
    {
      "cell_type": "code",
      "metadata": {
        "id": "7gJGVohKLuYN",
        "colab_type": "code",
        "colab": {}
      },
      "source": [
        "def clean_text(text):\n",
        "  if text[0] == \"'\":\n",
        "    text = text[1:]\n",
        "  if text[-1] == \"'\":\n",
        "    text = text[:-1]\n",
        "  return text"
      ],
      "execution_count": 0,
      "outputs": []
    },
    {
      "cell_type": "code",
      "metadata": {
        "id": "XVltPT_dK1QV",
        "colab_type": "code",
        "colab": {}
      },
      "source": [
        "country_continent = dict()\n",
        "for i in range(0,len(tokens),2):\n",
        "  country = clean_text(tokens[i])\n",
        "  continent = clean_text(tokens[i+1])\n",
        "  country_continent[country] = continent\n",
        "\n",
        "\n"
      ],
      "execution_count": 0,
      "outputs": []
    },
    {
      "cell_type": "code",
      "metadata": {
        "id": "Jbk1qInEL99x",
        "colab_type": "code",
        "outputId": "7a3e52cf-72fb-4fa1-9163-2b84a6e3ac3d",
        "colab": {
          "base_uri": "https://localhost:8080/",
          "height": 1000
        }
      },
      "source": [
        "country_continent"
      ],
      "execution_count": 7,
      "outputs": [
        {
          "output_type": "execute_result",
          "data": {
            "text/plain": [
              "{'AD': 'Europe',\n",
              " 'AE': 'Asia',\n",
              " 'AF': 'Asia',\n",
              " 'AG': 'North America',\n",
              " 'AI': 'North America',\n",
              " 'AL': 'Europe',\n",
              " 'AM': 'Asia',\n",
              " 'AN': 'North America',\n",
              " 'AO': 'Africa',\n",
              " 'AQ': 'Antarctica',\n",
              " 'AR': 'South America',\n",
              " 'AS': 'Australia',\n",
              " 'AT': 'Europe',\n",
              " 'AU': 'Australia',\n",
              " 'AW': 'North America',\n",
              " 'AZ': 'Asia',\n",
              " 'BA': 'Europe',\n",
              " 'BB': 'North America',\n",
              " 'BD': 'Asia',\n",
              " 'BE': 'Europe',\n",
              " 'BF': 'Africa',\n",
              " 'BG': 'Europe',\n",
              " 'BH': 'Asia',\n",
              " 'BI': 'Africa',\n",
              " 'BJ': 'Africa',\n",
              " 'BM': 'North America',\n",
              " 'BN': 'Asia',\n",
              " 'BO': 'South America',\n",
              " 'BR': 'South America',\n",
              " 'BS': 'North America',\n",
              " 'BT': 'Asia',\n",
              " 'BW': 'Africa',\n",
              " 'BY': 'Europe',\n",
              " 'BZ': 'North America',\n",
              " 'CA': 'North America',\n",
              " 'CC': 'Asia',\n",
              " 'CD': 'Africa',\n",
              " 'CF': 'Africa',\n",
              " 'CG': 'Africa',\n",
              " 'CH': 'Europe',\n",
              " 'CI': 'Africa',\n",
              " 'CK': 'Australia',\n",
              " 'CL': 'South America',\n",
              " 'CM': 'Africa',\n",
              " 'CN': 'Asia',\n",
              " 'CO': 'South America',\n",
              " 'CR': 'North America',\n",
              " 'CU': 'North America',\n",
              " 'CV': 'Africa',\n",
              " 'CX': 'Asia',\n",
              " 'CY': 'Asia',\n",
              " 'CZ': 'Europe',\n",
              " 'DE': 'Europe',\n",
              " 'DJ': 'Africa',\n",
              " 'DK': 'Europe',\n",
              " 'DM': 'North America',\n",
              " 'DO': 'North America',\n",
              " 'DZ': 'Africa',\n",
              " 'EC': 'South America',\n",
              " 'EE': 'Europe',\n",
              " 'EG': 'Africa',\n",
              " 'EH': 'Africa',\n",
              " 'ER': 'Africa',\n",
              " 'ES': 'Europe',\n",
              " 'ET': 'Africa',\n",
              " 'FI': 'Europe',\n",
              " 'FJ': 'Australia',\n",
              " 'FK': 'South America',\n",
              " 'FM': 'Australia',\n",
              " 'FO': 'Europe',\n",
              " 'FR': 'Europe',\n",
              " 'GA': 'Africa',\n",
              " 'GB': 'Europe',\n",
              " 'GD': 'North America',\n",
              " 'GE': 'Asia',\n",
              " 'GF': 'South America',\n",
              " 'GG': 'Europe',\n",
              " 'GH': 'Africa',\n",
              " 'GI': 'Europe',\n",
              " 'GL': 'North America',\n",
              " 'GM': 'Africa',\n",
              " 'GN': 'Africa',\n",
              " 'GP': 'North America',\n",
              " 'GQ': 'Africa',\n",
              " 'GR': 'Europe',\n",
              " 'GS': 'Antarctica',\n",
              " 'GT': 'North America',\n",
              " 'GU': 'Australia',\n",
              " 'GW': 'Africa',\n",
              " 'GY': 'South America',\n",
              " 'HK': 'Asia',\n",
              " 'HN': 'North America',\n",
              " 'HR': 'Europe',\n",
              " 'HT': 'North America',\n",
              " 'HU': 'Europe',\n",
              " 'ID': 'Asia',\n",
              " 'IE': 'Europe',\n",
              " 'IL': 'Asia',\n",
              " 'IM': 'Europe',\n",
              " 'IN': 'Asia',\n",
              " 'IO': 'Asia',\n",
              " 'IQ': 'Asia',\n",
              " 'IR': 'Asia',\n",
              " 'IS': 'Europe',\n",
              " 'IT': 'Europe',\n",
              " 'JE': 'Europe',\n",
              " 'JM': 'North America',\n",
              " 'JO': 'Asia',\n",
              " 'JP': 'Asia',\n",
              " 'KE': 'Africa',\n",
              " 'KG': 'Asia',\n",
              " 'KH': 'Asia',\n",
              " 'KI': 'Australia',\n",
              " 'KM': 'Africa',\n",
              " 'KN': 'North America',\n",
              " 'KP': 'Asia',\n",
              " 'KR': 'Asia',\n",
              " 'KW': 'Asia',\n",
              " 'KY': 'North America',\n",
              " 'KZ': 'Asia',\n",
              " 'LA': 'Asia',\n",
              " 'LB': 'Asia',\n",
              " 'LC': 'North America',\n",
              " 'LI': 'Europe',\n",
              " 'LK': 'Asia',\n",
              " 'LR': 'Africa',\n",
              " 'LS': 'Africa',\n",
              " 'LT': 'Europe',\n",
              " 'LU': 'Europe',\n",
              " 'LV': 'Europe',\n",
              " 'LY': 'Africa',\n",
              " 'MA': 'Africa',\n",
              " 'MC': 'Europe',\n",
              " 'MD': 'Europe',\n",
              " 'ME': 'Europe',\n",
              " 'MG': 'Africa',\n",
              " 'MH': 'Australia',\n",
              " 'MK': 'Europe',\n",
              " 'ML': 'Africa',\n",
              " 'MM': 'Asia',\n",
              " 'MN': 'Asia',\n",
              " 'MO': 'Asia',\n",
              " 'MP': 'Australia',\n",
              " 'MQ': 'North America',\n",
              " 'MR': 'Africa',\n",
              " 'MS': 'North America',\n",
              " 'MT': 'Europe',\n",
              " 'MU': 'Africa',\n",
              " 'MV': 'Asia',\n",
              " 'MW': 'Africa',\n",
              " 'MX': 'North America',\n",
              " 'MY': 'Asia',\n",
              " 'MZ': 'Africa',\n",
              " 'NA': 'Africa',\n",
              " 'NC': 'Australia',\n",
              " 'NE': 'Africa',\n",
              " 'NF': 'Australia',\n",
              " 'NG': 'Africa',\n",
              " 'NI': 'North America',\n",
              " 'NL': 'Europe',\n",
              " 'NO': 'Europe',\n",
              " 'NP': 'Asia',\n",
              " 'NR': 'Australia',\n",
              " 'NU': 'Australia',\n",
              " 'NZ': 'Australia',\n",
              " 'OM': 'Asia',\n",
              " 'PA': 'North America',\n",
              " 'PE': 'South America',\n",
              " 'PF': 'Australia',\n",
              " 'PG': 'Australia',\n",
              " 'PH': 'Asia',\n",
              " 'PK': 'Asia',\n",
              " 'PL': 'Europe',\n",
              " 'PM': 'North America',\n",
              " 'PN': 'Australia',\n",
              " 'PR': 'North America',\n",
              " 'PS': 'Asia',\n",
              " 'PT': 'Europe',\n",
              " 'PW': 'Australia',\n",
              " 'PY': 'South America',\n",
              " 'QA': 'Asia',\n",
              " 'RE': 'Africa',\n",
              " 'RO': 'Europe',\n",
              " 'RS': 'Europe',\n",
              " 'RU': 'Europe',\n",
              " 'RW': 'Africa',\n",
              " 'SA': 'Asia',\n",
              " 'SB': 'Australia',\n",
              " 'SC': 'Africa',\n",
              " 'SD': 'Africa',\n",
              " 'SE': 'Europe',\n",
              " 'SG': 'Asia',\n",
              " 'SH': 'Africa',\n",
              " 'SI': 'Europe',\n",
              " 'SJ': 'Europe',\n",
              " 'SK': 'Europe',\n",
              " 'SL': 'Africa',\n",
              " 'SM': 'Europe',\n",
              " 'SN': 'Africa',\n",
              " 'SO': 'Africa',\n",
              " 'SR': 'South America',\n",
              " 'ST': 'Africa',\n",
              " 'SV': 'North America',\n",
              " 'SY': 'Asia',\n",
              " 'SZ': 'Africa',\n",
              " 'TC': 'North America',\n",
              " 'TD': 'Africa',\n",
              " 'TF': 'Antarctica',\n",
              " 'TG': 'Africa',\n",
              " 'TH': 'Asia',\n",
              " 'TJ': 'Asia',\n",
              " 'TK': 'Australia',\n",
              " 'TM': 'Asia',\n",
              " 'TN': 'Africa',\n",
              " 'TO': 'Australia',\n",
              " 'TR': 'Asia',\n",
              " 'TT': 'North America',\n",
              " 'TV': 'Australia',\n",
              " 'TW': 'Asia',\n",
              " 'TZ': 'Africa',\n",
              " 'UA': 'Europe',\n",
              " 'UG': 'Africa',\n",
              " 'US': 'North America',\n",
              " 'UY': 'South America',\n",
              " 'UZ': 'Asia',\n",
              " 'VC': 'North America',\n",
              " 'VE': 'South America',\n",
              " 'VG': 'North America',\n",
              " 'VI': 'North America',\n",
              " 'VN': 'Asia',\n",
              " 'VU': 'Australia',\n",
              " 'WF': 'Australia',\n",
              " 'WS': 'Australia',\n",
              " 'YE': 'Asia',\n",
              " 'YT': 'Africa',\n",
              " 'ZA': 'Africa',\n",
              " 'ZM': 'Africa',\n",
              " 'ZW': 'Africa'}"
            ]
          },
          "metadata": {
            "tags": []
          },
          "execution_count": 7
        }
      ]
    },
    {
      "cell_type": "code",
      "metadata": {
        "id": "pzuWfs-NMAAh",
        "colab_type": "code",
        "colab": {}
      },
      "source": [
        "country_list = \"AD,AE,AF,AG,AI,AL,AM,AN,AO,AQ,AR,AS,AT,AU,AW,AZ,BA,BB,BD,BE,BF,BG,BH,BI,BJ,BM,BN,BO,BR,BS,BT,BV,BW,BY,BZ,CA,CC,CD,CF,CG,CH,CI,CK,CL,CM,CN,CO,CR,CU,CV,CX,CY,CZ,DE,DJ,DK,DM,DO,DZ,EC,EE,EG,EH,ER,ES,ET,FI,FJ,FK,FM,FO,FR,GA,GB,GD,GE,GF,GG,GH,GI,GL,GM,GN,GP,GQ,GR,GS,GT,GU,GW,GY,GZ,HK,HM,HN,HR,HT,HU,ID,IE,IL,IM,IN,IO,IQ,IR,IS,IT,JE,JM,JO,JP,KE,KG,KH,KI,KM,KN,KP,KR,KW,KY,KZ,LA,LB,LC,LI,LK,LR,LS,LT,LU,LV,LY,MA,MC,MD,ME,MG,MH,MK,ML,MM,MN,MO,MP,MQ,MR,MS,MT,MU,MV,MW,MX,MY,MZ,NA,NC,NE,NF,NG,NI,NL,NO,NP,NR,NU,NZ,OM,PA,PE,PF,PG,PH,PK,PL,PM,PN,PR,PS,PT,PW,PY,QA,RE,RO,RS,RU,RW,SA,SB,SC,SD,SE,SG,SH,SI,SJ,SK,SL,SM,SN,SO,SR,ST,SV,SY,SZ,TC,TD,TF,TG,TH,TJ,TK,TL,TM,TN,TO,TR,TT,TV,TW,TZ,UA,UG,UM,US,UY,UZ,VA,VC,VE,VG,VI,VN,VU,WF,WS,XK,YE,YT,ZA,ZM,ZW\""
      ],
      "execution_count": 0,
      "outputs": []
    },
    {
      "cell_type": "code",
      "metadata": {
        "id": "84X-49oORXIW",
        "colab_type": "code",
        "colab": {}
      },
      "source": [
        "country_list = country_list.split(\",\")"
      ],
      "execution_count": 0,
      "outputs": []
    },
    {
      "cell_type": "code",
      "metadata": {
        "id": "n926-miUTSCI",
        "colab_type": "code",
        "colab": {}
      },
      "source": [
        "lat_list = \"42.546245,23.424076,33.93911,17.060816,18.220554,41.153332,40.069099,12.226079,-11.202692,-75.250973,-38.416097,-14.270972,47.516231,-25.274398,12.52111,40.143105,43.915886,13.193887,23.684994,50.503887,12.238333,42.733883,25.930414,-3.373056,9.30769,32.321384,4.535277,-16.290154,-14.235004,25.03428,27.514162,-54.423199,-22.328474,53.709807,17.189877,56.130366,-12.164165,-4.038333,6.611111,-0.228021,46.818188,7.539989,-21.236736,-35.675147,7.369722,35.86166,4.570868,9.748917,21.521757,16.002082,-10.447525,35.126413,49.817492,51.165691,11.825138,56.26392,15.414999,18.735693,28.033886,-1.831239,58.595272,26.820553,24.215527,15.179384,40.463667,9.145,61.92411,-16.578193,-51.796253,7.425554,61.892635,46.227638,-0.803689,55.378051,12.262776,42.315407,3.933889,49.465691,7.946527,36.137741,71.706936,13.443182,9.945587,16.995971,1.650801,39.074208,-54.429579,15.783471,13.444304,11.803749,4.860416,31.354676,22.396428,-53.08181,15.199999,45.1,18.971187,47.162494,-0.789275,53.41291,31.046051,54.236107,20.593684,-6.343194,33.223191,32.427908,64.963051,41.87194,49.214439,18.109581,30.585164,36.204824,-0.023559,41.20438,12.565679,-3.370417,-11.875001,17.357822,40.339852,35.907757,29.31166,19.513469,48.019573,19.85627,33.854721,13.909444,47.166,7.873054,6.428055,-29.609988,55.169438,49.815273,56.879635,26.3351,31.791702,43.750298,47.411631,42.708678,-18.766947,7.131474,41.608635,17.570692,21.913965,46.862496,22.198745,17.33083,14.641528,21.00789,16.742498,35.937496,-20.348404,3.202778,-13.254308,23.634501,4.210484,-18.665695,-22.95764,-20.904305,17.607789,-29.040835,9.081999,12.865416,52.132633,60.472024,28.394857,-0.522778,-19.054445,-40.900557,21.512583,8.537981,-9.189967,-17.679742,-6.314993,12.879721,30.375321,51.919438,46.941936,-24.703615,18.220833,31.952162,39.399872,7.51498,-23.442503,25.354826,-21.115141,45.943161,44.016521,61.52401,-1.940278,23.885942,-9.64571,-4.679574,12.862807,60.128161,1.352083,-24.143474,46.151241,77.553604,48.669026,8.460555,43.94236,14.497401,5.152149,3.919305,0.18636,13.794185,34.802075,-26.522503,21.694025,15.454166,-49.280366,8.619543,15.870032,38.861034,-8.967363,-8.874217,38.969719,33.886917,-21.178986,38.963745,10.691803,-7.109535,23.69781,-6.369028,48.379433,1.373333,,37.09024,-32.522779,41.377491,41.902916,12.984305,6.42375,18.420695,18.335765,14.058324,-15.376706,-13.768752,-13.759029,42.602636,15.552727,-12.8275,-30.559482,-13.133897,-19.015438\""
      ],
      "execution_count": 0,
      "outputs": []
    },
    {
      "cell_type": "code",
      "metadata": {
        "id": "gDzn4ce-Tb48",
        "colab_type": "code",
        "colab": {}
      },
      "source": [
        "lat_list = lat_list.split(\",\")"
      ],
      "execution_count": 0,
      "outputs": []
    },
    {
      "cell_type": "code",
      "metadata": {
        "id": "TOTnORMUTiJv",
        "colab_type": "code",
        "colab": {}
      },
      "source": [
        "long_list = \"1.601554,53.847818,67.709953,-61.796428,-63.068615,20.168331,45.038189,-69.060087,17.873887,-0.071389,-63.616672,-170.132217,14.550072,133.775136,-69.968338,47.576927,17.679076,-59.543198,90.356331,4.469936,-1.561593,25.48583,50.637772,29.918886,2.315834,-64.75737,114.727669,-63.588653,-51.92528,-77.39628,90.433601,3.413194,24.684866,27.953389,-88.49765,-106.346771,96.870956,21.758664,20.939444,15.827659,8.227512,-5.54708,-159.777671,-71.542969,12.354722,104.195397,-74.297333,-83.753428,-77.781167,-24.013197,105.690449,33.429859,15.472962,10.451526,42.590275,9.501785,-61.370976,-70.162651,1.659626,-78.183406,25.013607,30.802498,-12.885834,39.782334,-3.74922,40.489673,25.748151,179.414413,-59.523613,150.550812,-6.911806,2.213749,11.609444,-3.435973,-61.604171,43.356892,-53.125782,-2.585278,-1.023194,-5.345374,-42.604303,-15.310139,-9.696645,-62.067641,10.267895,21.824312,-36.587909,-90.230759,144.793731,-15.180413,-58.93018,34.308825,114.109497,73.504158,-86.241905,15.2,-72.285215,19.503304,113.921327,-8.24389,34.851612,-4.548056,78.96288,71.876519,43.679291,53.688046,-19.020835,12.56738,-2.13125,-77.297508,36.238414,138.252924,37.906193,74.766098,104.990963,-168.734039,43.872219,-62.782998,127.510093,127.766922,47.481766,-80.566956,66.923684,102.495496,35.862285,-60.978893,9.555373,80.771797,-9.429499,28.233608,23.881275,6.129583,24.603189,17.228331,-7.09262,7.412841,28.369885,19.37439,46.869107,171.184478,21.745275,-3.996166,95.956223,103.846656,113.543873,145.38469,-61.024174,-10.940835,-62.187366,14.375416,57.552152,73.22068,34.301525,-102.552784,101.975766,35.529562,18.49041,165.618042,8.081666,167.954712,8.675277,-85.207229,5.291266,8.468946,84.124008,166.931503,-169.867233,174.885971,55.923255,-80.782127,-75.015152,-149.406843,143.95555,121.774017,69.345116,19.145136,-56.27111,-127.439308,-66.590149,35.233154,-8.224454,134.58252,-58.443832,51.183884,55.536384,24.96676,21.005859,105.318756,29.873888,45.079162,160.156194,55.491977,30.217636,18.643501,103.819836,-10.030696,14.995463,23.670272,19.699024,-11.779889,12.457777,-14.452362,46.199616,-56.027783,6.613081,-88.89653,38.996815,31.465866,-71.797928,18.732207,69.348557,0.824782,100.992541,71.276093,-171.855881,125.727539,59.556278,9.537499,-175.198242,35.243322,-61.222503,177.64933,120.960515,34.888822,31.16558,32.290275,,-95.712891,-55.765835,64.585262,12.453389,-61.287228,-66.58973,-64.639968,-64.896335,108.277199,166.959158,-177.156097,-172.104629,20.902977,48.516388,45.166244,22.937506,27.849332,29.154857\""
      ],
      "execution_count": 0,
      "outputs": []
    },
    {
      "cell_type": "code",
      "metadata": {
        "id": "N-lpHlK-TqqQ",
        "colab_type": "code",
        "colab": {}
      },
      "source": [
        "long_list = long_list.split(\",\")"
      ],
      "execution_count": 0,
      "outputs": []
    },
    {
      "cell_type": "code",
      "metadata": {
        "id": "nkdYNMraUWuK",
        "colab_type": "code",
        "outputId": "6c852266-a3e1-4f48-c485-687fd05a72ea",
        "colab": {
          "base_uri": "https://localhost:8080/",
          "height": 34
        }
      },
      "source": [
        "long_list[:3]"
      ],
      "execution_count": 14,
      "outputs": [
        {
          "output_type": "execute_result",
          "data": {
            "text/plain": [
              "['1.601554', '53.847818', '67.709953']"
            ]
          },
          "metadata": {
            "tags": []
          },
          "execution_count": 14
        }
      ]
    },
    {
      "cell_type": "code",
      "metadata": {
        "id": "43hdiMbiUeJd",
        "colab_type": "code",
        "outputId": "9ed87eb4-7968-4377-c489-bb9c67bc1f0c",
        "colab": {
          "base_uri": "https://localhost:8080/",
          "height": 34
        }
      },
      "source": [
        "float(long_list[2])"
      ],
      "execution_count": 15,
      "outputs": [
        {
          "output_type": "execute_result",
          "data": {
            "text/plain": [
              "67.709953"
            ]
          },
          "metadata": {
            "tags": []
          },
          "execution_count": 15
        }
      ]
    },
    {
      "cell_type": "code",
      "metadata": {
        "id": "EdFa-ICgUxHJ",
        "colab_type": "code",
        "outputId": "bff8d7dc-ce96-4a71-bfd0-1c9052f09a18",
        "colab": {
          "base_uri": "https://localhost:8080/",
          "height": 34
        }
      },
      "source": [
        "len(long_list)"
      ],
      "execution_count": 16,
      "outputs": [
        {
          "output_type": "execute_result",
          "data": {
            "text/plain": [
              "245"
            ]
          },
          "metadata": {
            "tags": []
          },
          "execution_count": 16
        }
      ]
    },
    {
      "cell_type": "code",
      "metadata": {
        "id": "qK-Qell7U2-V",
        "colab_type": "code",
        "outputId": "fd955e0c-845f-49f4-ba1b-5cbcad66d499",
        "colab": {
          "base_uri": "https://localhost:8080/",
          "height": 34
        }
      },
      "source": [
        "long_list[226]"
      ],
      "execution_count": 17,
      "outputs": [
        {
          "output_type": "execute_result",
          "data": {
            "text/plain": [
              "''"
            ]
          },
          "metadata": {
            "tags": []
          },
          "execution_count": 17
        }
      ]
    },
    {
      "cell_type": "code",
      "metadata": {
        "id": "KH3wvLn9TtpF",
        "colab_type": "code",
        "outputId": "0b19d84c-7ea7-4407-c1c8-7fb866af3327",
        "colab": {
          "base_uri": "https://localhost:8080/",
          "height": 323
        }
      },
      "source": [
        "import numpy as np\n",
        "cc = []\n",
        "continent_code = []\n",
        "for i in range(len(lat_list)):\n",
        "  try:\n",
        "    if i == 226:\n",
        "      continue\n",
        "    continent_code.append(country_continent[country_list[i]])\n",
        "    code = [float(lat_list[i]), float(long_list[i])]\n",
        "    cc.append(code)\n",
        "  except:\n",
        "    print(i)\n",
        "    print(lat_list[i])\n",
        "    print(long_list[i])\n",
        "cc = np.array(cc)"
      ],
      "execution_count": 18,
      "outputs": [
        {
          "output_type": "stream",
          "text": [
            "31\n",
            "-54.423199\n",
            "3.413194\n",
            "91\n",
            "31.354676\n",
            "34.308825\n",
            "93\n",
            "-53.08181\n",
            "73.504158\n",
            "215\n",
            "-8.874217\n",
            "125.727539\n",
            "230\n",
            "41.902916\n",
            "12.453389\n",
            "239\n",
            "42.602636\n",
            "20.902977\n"
          ],
          "name": "stdout"
        }
      ]
    },
    {
      "cell_type": "code",
      "metadata": {
        "id": "VFZBEhSwT_rP",
        "colab_type": "code",
        "outputId": "cbaa2ce2-e5d2-476c-9412-c467cee4ece8",
        "colab": {
          "base_uri": "https://localhost:8080/",
          "height": 34
        }
      },
      "source": [
        "len(country_list)"
      ],
      "execution_count": 19,
      "outputs": [
        {
          "output_type": "execute_result",
          "data": {
            "text/plain": [
              "245"
            ]
          },
          "metadata": {
            "tags": []
          },
          "execution_count": 19
        }
      ]
    },
    {
      "cell_type": "code",
      "metadata": {
        "id": "WXr09veyVOAv",
        "colab_type": "code",
        "outputId": "a5c2c36f-967c-4d03-fb81-1d86637138d4",
        "colab": {
          "base_uri": "https://localhost:8080/",
          "height": 34
        }
      },
      "source": [
        "cc.shape"
      ],
      "execution_count": 20,
      "outputs": [
        {
          "output_type": "execute_result",
          "data": {
            "text/plain": [
              "(238, 2)"
            ]
          },
          "metadata": {
            "tags": []
          },
          "execution_count": 20
        }
      ]
    },
    {
      "cell_type": "code",
      "metadata": {
        "id": "AyyLKVIKVR-O",
        "colab_type": "code",
        "outputId": "7e1ee834-9bac-480a-8421-bbe4566835ca",
        "colab": {
          "base_uri": "https://localhost:8080/",
          "height": 34
        }
      },
      "source": [
        "len(continent_code)"
      ],
      "execution_count": 21,
      "outputs": [
        {
          "output_type": "execute_result",
          "data": {
            "text/plain": [
              "238"
            ]
          },
          "metadata": {
            "tags": []
          },
          "execution_count": 21
        }
      ]
    },
    {
      "cell_type": "code",
      "metadata": {
        "id": "wmKqjazyXNfR",
        "colab_type": "code",
        "colab": {}
      },
      "source": [
        " cont = set(continent_code)"
      ],
      "execution_count": 0,
      "outputs": []
    },
    {
      "cell_type": "code",
      "metadata": {
        "id": "Jiazqr3SXS_F",
        "colab_type": "code",
        "outputId": "ed914881-c649-4f6d-fafa-f29f27958a3e",
        "colab": {
          "base_uri": "https://localhost:8080/",
          "height": 136
        }
      },
      "source": [
        "cont"
      ],
      "execution_count": 23,
      "outputs": [
        {
          "output_type": "execute_result",
          "data": {
            "text/plain": [
              "{'Africa',\n",
              " 'Antarctica',\n",
              " 'Asia',\n",
              " 'Australia',\n",
              " 'Europe',\n",
              " 'North America',\n",
              " 'South America'}"
            ]
          },
          "metadata": {
            "tags": []
          },
          "execution_count": 23
        }
      ]
    },
    {
      "cell_type": "code",
      "metadata": {
        "id": "atFIMdXqXUmg",
        "colab_type": "code",
        "colab": {}
      },
      "source": [
        "cont_dict = {\"Africa\": 0, \"Antarctica\":1, \"Asia\":2, \"Australia\":3, \"Europe\":4, \"North America\":5, \"South America\":6}"
      ],
      "execution_count": 0,
      "outputs": []
    },
    {
      "cell_type": "code",
      "metadata": {
        "id": "xHalcCjJXkon",
        "colab_type": "code",
        "colab": {}
      },
      "source": [
        "y=[]\n",
        "for con in continent_code:\n",
        "  y.append(cont_dict[con])"
      ],
      "execution_count": 0,
      "outputs": []
    },
    {
      "cell_type": "code",
      "metadata": {
        "id": "yCcc4GyIOALx",
        "colab_type": "code",
        "colab": {}
      },
      "source": [
        "cc = cc.astype('float64') \n",
        "y = np.array(y) "
      ],
      "execution_count": 0,
      "outputs": []
    },
    {
      "cell_type": "code",
      "metadata": {
        "id": "ltdsq88eVXDq",
        "colab_type": "code",
        "colab": {}
      },
      "source": [
        "train_X = cc[:200]\n",
        "train_Y = y[:200]\n",
        "val_X = cc[200:]\n",
        "val_Y = y[200:]"
      ],
      "execution_count": 0,
      "outputs": []
    },
    {
      "cell_type": "code",
      "metadata": {
        "id": "xeLH4FJ_NrjJ",
        "colab_type": "code",
        "colab": {
          "base_uri": "https://localhost:8080/",
          "height": 34
        },
        "outputId": "5383e0b9-38a4-4f34-e398-f60281d2a74f"
      },
      "source": [
        "from __future__ import absolute_import, division, print_function, unicode_literals, unicode_literals\n",
        "\n",
        "# tensorflow와 tf.keras를 임포트합니다\n",
        "import tensorflow as tf\n",
        "from tensorflow import keras\n",
        "\n",
        "# 헬퍼(helper) 라이브러리를 임포트합니다\n",
        "import numpy as np\n",
        "import matplotlib.pyplot as plt\n",
        "\n",
        "print(tf.__version__)"
      ],
      "execution_count": 28,
      "outputs": [
        {
          "output_type": "stream",
          "text": [
            "2.2.0-rc3\n"
          ],
          "name": "stdout"
        }
      ]
    },
    {
      "cell_type": "code",
      "metadata": {
        "id": "xP1nMEGLXzQ4",
        "colab_type": "code",
        "outputId": "50329736-ca32-4bcb-f046-20639f137688",
        "colab": {
          "base_uri": "https://localhost:8080/",
          "height": 1000
        }
      },
      "source": [
        "model = keras.Sequential([\n",
        "    keras.layers.Dense(128, input_shape=(2,),activation='relu'),\n",
        "    keras.layers.Dense(7, activation='softmax')\n",
        "])\n",
        "\n",
        "model.compile(optimizer='adam',\n",
        "              loss='sparse_categorical_crossentropy',\n",
        "              metrics=['accuracy'])\n",
        "\n",
        "history =model.fit(train_X, train_Y, epochs=205,validation_data=(val_X, val_Y))\n"
      ],
      "execution_count": 29,
      "outputs": [
        {
          "output_type": "stream",
          "text": [
            "Epoch 1/205\n",
            "7/7 [==============================] - 0s 42ms/step - loss: 7.7350 - accuracy: 0.2150 - val_loss: 7.8009 - val_accuracy: 0.2632\n",
            "Epoch 2/205\n",
            "7/7 [==============================] - 0s 8ms/step - loss: 5.2338 - accuracy: 0.4800 - val_loss: 5.3467 - val_accuracy: 0.4474\n",
            "Epoch 3/205\n",
            "7/7 [==============================] - 0s 7ms/step - loss: 2.6584 - accuracy: 0.6250 - val_loss: 2.9912 - val_accuracy: 0.6053\n",
            "Epoch 4/205\n",
            "7/7 [==============================] - 0s 7ms/step - loss: 1.6430 - accuracy: 0.6350 - val_loss: 1.5992 - val_accuracy: 0.5789\n",
            "Epoch 5/205\n",
            "7/7 [==============================] - 0s 7ms/step - loss: 1.0663 - accuracy: 0.6050 - val_loss: 1.2024 - val_accuracy: 0.5000\n",
            "Epoch 6/205\n",
            "7/7 [==============================] - 0s 7ms/step - loss: 0.9844 - accuracy: 0.6650 - val_loss: 0.9418 - val_accuracy: 0.6053\n",
            "Epoch 7/205\n",
            "7/7 [==============================] - 0s 8ms/step - loss: 0.8468 - accuracy: 0.6850 - val_loss: 0.6965 - val_accuracy: 0.7632\n",
            "Epoch 8/205\n",
            "7/7 [==============================] - 0s 7ms/step - loss: 0.6152 - accuracy: 0.7200 - val_loss: 0.6315 - val_accuracy: 0.7632\n",
            "Epoch 9/205\n",
            "7/7 [==============================] - 0s 7ms/step - loss: 0.6013 - accuracy: 0.6950 - val_loss: 0.6574 - val_accuracy: 0.7632\n",
            "Epoch 10/205\n",
            "7/7 [==============================] - 0s 8ms/step - loss: 0.6772 - accuracy: 0.7050 - val_loss: 0.6356 - val_accuracy: 0.7632\n",
            "Epoch 11/205\n",
            "7/7 [==============================] - 0s 7ms/step - loss: 0.6187 - accuracy: 0.7100 - val_loss: 0.7055 - val_accuracy: 0.6842\n",
            "Epoch 12/205\n",
            "7/7 [==============================] - 0s 7ms/step - loss: 0.5604 - accuracy: 0.7400 - val_loss: 0.6322 - val_accuracy: 0.7632\n",
            "Epoch 13/205\n",
            "7/7 [==============================] - 0s 7ms/step - loss: 0.5760 - accuracy: 0.7350 - val_loss: 0.6753 - val_accuracy: 0.6842\n",
            "Epoch 14/205\n",
            "7/7 [==============================] - 0s 7ms/step - loss: 0.5340 - accuracy: 0.7450 - val_loss: 0.5977 - val_accuracy: 0.7895\n",
            "Epoch 15/205\n",
            "7/7 [==============================] - 0s 7ms/step - loss: 0.5623 - accuracy: 0.7600 - val_loss: 0.5908 - val_accuracy: 0.7895\n",
            "Epoch 16/205\n",
            "7/7 [==============================] - 0s 7ms/step - loss: 0.5175 - accuracy: 0.7750 - val_loss: 0.6063 - val_accuracy: 0.7895\n",
            "Epoch 17/205\n",
            "7/7 [==============================] - 0s 7ms/step - loss: 0.5408 - accuracy: 0.7800 - val_loss: 0.6412 - val_accuracy: 0.7632\n",
            "Epoch 18/205\n",
            "7/7 [==============================] - 0s 7ms/step - loss: 0.5091 - accuracy: 0.7600 - val_loss: 0.5796 - val_accuracy: 0.8421\n",
            "Epoch 19/205\n",
            "7/7 [==============================] - 0s 8ms/step - loss: 0.5023 - accuracy: 0.7900 - val_loss: 0.6007 - val_accuracy: 0.8158\n",
            "Epoch 20/205\n",
            "7/7 [==============================] - 0s 8ms/step - loss: 0.5037 - accuracy: 0.8100 - val_loss: 0.5848 - val_accuracy: 0.7895\n",
            "Epoch 21/205\n",
            "7/7 [==============================] - 0s 7ms/step - loss: 0.4814 - accuracy: 0.8050 - val_loss: 0.6186 - val_accuracy: 0.8158\n",
            "Epoch 22/205\n",
            "7/7 [==============================] - 0s 7ms/step - loss: 0.4819 - accuracy: 0.8050 - val_loss: 0.5857 - val_accuracy: 0.8158\n",
            "Epoch 23/205\n",
            "7/7 [==============================] - 0s 7ms/step - loss: 0.4860 - accuracy: 0.8000 - val_loss: 0.6584 - val_accuracy: 0.7895\n",
            "Epoch 24/205\n",
            "7/7 [==============================] - 0s 7ms/step - loss: 0.5379 - accuracy: 0.7850 - val_loss: 0.6393 - val_accuracy: 0.8158\n",
            "Epoch 25/205\n",
            "7/7 [==============================] - 0s 7ms/step - loss: 0.4748 - accuracy: 0.8000 - val_loss: 0.6409 - val_accuracy: 0.7632\n",
            "Epoch 26/205\n",
            "7/7 [==============================] - 0s 7ms/step - loss: 0.4700 - accuracy: 0.8200 - val_loss: 0.6112 - val_accuracy: 0.8421\n",
            "Epoch 27/205\n",
            "7/7 [==============================] - 0s 7ms/step - loss: 0.4584 - accuracy: 0.8100 - val_loss: 0.6508 - val_accuracy: 0.7895\n",
            "Epoch 28/205\n",
            "7/7 [==============================] - 0s 8ms/step - loss: 0.4932 - accuracy: 0.8250 - val_loss: 0.5921 - val_accuracy: 0.8421\n",
            "Epoch 29/205\n",
            "7/7 [==============================] - 0s 8ms/step - loss: 0.4464 - accuracy: 0.8350 - val_loss: 0.5937 - val_accuracy: 0.8684\n",
            "Epoch 30/205\n",
            "7/7 [==============================] - 0s 7ms/step - loss: 0.4382 - accuracy: 0.8200 - val_loss: 0.6190 - val_accuracy: 0.8421\n",
            "Epoch 31/205\n",
            "7/7 [==============================] - 0s 8ms/step - loss: 0.4468 - accuracy: 0.8200 - val_loss: 0.6184 - val_accuracy: 0.8421\n",
            "Epoch 32/205\n",
            "7/7 [==============================] - 0s 7ms/step - loss: 0.4297 - accuracy: 0.8300 - val_loss: 0.6059 - val_accuracy: 0.8421\n",
            "Epoch 33/205\n",
            "7/7 [==============================] - 0s 7ms/step - loss: 0.4173 - accuracy: 0.8350 - val_loss: 0.5977 - val_accuracy: 0.8421\n",
            "Epoch 34/205\n",
            "7/7 [==============================] - 0s 7ms/step - loss: 0.4216 - accuracy: 0.8400 - val_loss: 0.5926 - val_accuracy: 0.8421\n",
            "Epoch 35/205\n",
            "7/7 [==============================] - 0s 7ms/step - loss: 0.4121 - accuracy: 0.8350 - val_loss: 0.6114 - val_accuracy: 0.8421\n",
            "Epoch 36/205\n",
            "7/7 [==============================] - 0s 7ms/step - loss: 0.4157 - accuracy: 0.8350 - val_loss: 0.5905 - val_accuracy: 0.8421\n",
            "Epoch 37/205\n",
            "7/7 [==============================] - 0s 7ms/step - loss: 0.4200 - accuracy: 0.8350 - val_loss: 0.5975 - val_accuracy: 0.8684\n",
            "Epoch 38/205\n",
            "7/7 [==============================] - 0s 9ms/step - loss: 0.4567 - accuracy: 0.8150 - val_loss: 0.5935 - val_accuracy: 0.8684\n",
            "Epoch 39/205\n",
            "7/7 [==============================] - 0s 7ms/step - loss: 0.4896 - accuracy: 0.8300 - val_loss: 0.6278 - val_accuracy: 0.8421\n",
            "Epoch 40/205\n",
            "7/7 [==============================] - 0s 8ms/step - loss: 0.4291 - accuracy: 0.8250 - val_loss: 0.6259 - val_accuracy: 0.7632\n",
            "Epoch 41/205\n",
            "7/7 [==============================] - 0s 7ms/step - loss: 0.3939 - accuracy: 0.8650 - val_loss: 0.6055 - val_accuracy: 0.8421\n",
            "Epoch 42/205\n",
            "7/7 [==============================] - 0s 7ms/step - loss: 0.3938 - accuracy: 0.8400 - val_loss: 0.5636 - val_accuracy: 0.8684\n",
            "Epoch 43/205\n",
            "7/7 [==============================] - 0s 7ms/step - loss: 0.4011 - accuracy: 0.8350 - val_loss: 0.5759 - val_accuracy: 0.8684\n",
            "Epoch 44/205\n",
            "7/7 [==============================] - 0s 7ms/step - loss: 0.4372 - accuracy: 0.8200 - val_loss: 0.6276 - val_accuracy: 0.8158\n",
            "Epoch 45/205\n",
            "7/7 [==============================] - 0s 8ms/step - loss: 0.3656 - accuracy: 0.8500 - val_loss: 0.6060 - val_accuracy: 0.8421\n",
            "Epoch 46/205\n",
            "7/7 [==============================] - 0s 7ms/step - loss: 0.4149 - accuracy: 0.8300 - val_loss: 0.5872 - val_accuracy: 0.8421\n",
            "Epoch 47/205\n",
            "7/7 [==============================] - 0s 7ms/step - loss: 0.3719 - accuracy: 0.8250 - val_loss: 0.5867 - val_accuracy: 0.8684\n",
            "Epoch 48/205\n",
            "7/7 [==============================] - 0s 8ms/step - loss: 0.3644 - accuracy: 0.8450 - val_loss: 0.5556 - val_accuracy: 0.8684\n",
            "Epoch 49/205\n",
            "7/7 [==============================] - 0s 7ms/step - loss: 0.3937 - accuracy: 0.8550 - val_loss: 0.5851 - val_accuracy: 0.8684\n",
            "Epoch 50/205\n",
            "7/7 [==============================] - 0s 7ms/step - loss: 0.3914 - accuracy: 0.8600 - val_loss: 0.5751 - val_accuracy: 0.8158\n",
            "Epoch 51/205\n",
            "7/7 [==============================] - 0s 7ms/step - loss: 0.3730 - accuracy: 0.8400 - val_loss: 0.5870 - val_accuracy: 0.8684\n",
            "Epoch 52/205\n",
            "7/7 [==============================] - 0s 8ms/step - loss: 0.3519 - accuracy: 0.8500 - val_loss: 0.6001 - val_accuracy: 0.8421\n",
            "Epoch 53/205\n",
            "7/7 [==============================] - 0s 8ms/step - loss: 0.3695 - accuracy: 0.8700 - val_loss: 0.5784 - val_accuracy: 0.8947\n",
            "Epoch 54/205\n",
            "7/7 [==============================] - 0s 7ms/step - loss: 0.3533 - accuracy: 0.8650 - val_loss: 0.5991 - val_accuracy: 0.8947\n",
            "Epoch 55/205\n",
            "7/7 [==============================] - 0s 7ms/step - loss: 0.3898 - accuracy: 0.8600 - val_loss: 0.5656 - val_accuracy: 0.8684\n",
            "Epoch 56/205\n",
            "7/7 [==============================] - 0s 7ms/step - loss: 0.3365 - accuracy: 0.8600 - val_loss: 0.6208 - val_accuracy: 0.8684\n",
            "Epoch 57/205\n",
            "7/7 [==============================] - 0s 8ms/step - loss: 0.3551 - accuracy: 0.8600 - val_loss: 0.6355 - val_accuracy: 0.8421\n",
            "Epoch 58/205\n",
            "7/7 [==============================] - 0s 7ms/step - loss: 0.3373 - accuracy: 0.8750 - val_loss: 0.5480 - val_accuracy: 0.8684\n",
            "Epoch 59/205\n",
            "7/7 [==============================] - 0s 7ms/step - loss: 0.2968 - accuracy: 0.8700 - val_loss: 0.5555 - val_accuracy: 0.8684\n",
            "Epoch 60/205\n",
            "7/7 [==============================] - 0s 7ms/step - loss: 0.3277 - accuracy: 0.8650 - val_loss: 0.6091 - val_accuracy: 0.8947\n",
            "Epoch 61/205\n",
            "7/7 [==============================] - 0s 7ms/step - loss: 0.3180 - accuracy: 0.8700 - val_loss: 0.5639 - val_accuracy: 0.8947\n",
            "Epoch 62/205\n",
            "7/7 [==============================] - 0s 8ms/step - loss: 0.2948 - accuracy: 0.8700 - val_loss: 0.5689 - val_accuracy: 0.8684\n",
            "Epoch 63/205\n",
            "7/7 [==============================] - 0s 7ms/step - loss: 0.3173 - accuracy: 0.8650 - val_loss: 0.5991 - val_accuracy: 0.9211\n",
            "Epoch 64/205\n",
            "7/7 [==============================] - 0s 7ms/step - loss: 0.2938 - accuracy: 0.8950 - val_loss: 0.5536 - val_accuracy: 0.8684\n",
            "Epoch 65/205\n",
            "7/7 [==============================] - 0s 7ms/step - loss: 0.2844 - accuracy: 0.8650 - val_loss: 0.5555 - val_accuracy: 0.8684\n",
            "Epoch 66/205\n",
            "7/7 [==============================] - 0s 7ms/step - loss: 0.3006 - accuracy: 0.8750 - val_loss: 0.5654 - val_accuracy: 0.8684\n",
            "Epoch 67/205\n",
            "7/7 [==============================] - 0s 8ms/step - loss: 0.3351 - accuracy: 0.8750 - val_loss: 0.5520 - val_accuracy: 0.8684\n",
            "Epoch 68/205\n",
            "7/7 [==============================] - 0s 7ms/step - loss: 0.3038 - accuracy: 0.8650 - val_loss: 0.5710 - val_accuracy: 0.9211\n",
            "Epoch 69/205\n",
            "7/7 [==============================] - 0s 7ms/step - loss: 0.2713 - accuracy: 0.8900 - val_loss: 0.5638 - val_accuracy: 0.8684\n",
            "Epoch 70/205\n",
            "7/7 [==============================] - 0s 7ms/step - loss: 0.3517 - accuracy: 0.8550 - val_loss: 0.5640 - val_accuracy: 0.8684\n",
            "Epoch 71/205\n",
            "7/7 [==============================] - 0s 7ms/step - loss: 0.2954 - accuracy: 0.8850 - val_loss: 0.5763 - val_accuracy: 0.9211\n",
            "Epoch 72/205\n",
            "7/7 [==============================] - 0s 7ms/step - loss: 0.2897 - accuracy: 0.9050 - val_loss: 0.5501 - val_accuracy: 0.9211\n",
            "Epoch 73/205\n",
            "7/7 [==============================] - 0s 7ms/step - loss: 0.2956 - accuracy: 0.8850 - val_loss: 0.5488 - val_accuracy: 0.8947\n",
            "Epoch 74/205\n",
            "7/7 [==============================] - 0s 7ms/step - loss: 0.3027 - accuracy: 0.8650 - val_loss: 0.5738 - val_accuracy: 0.9211\n",
            "Epoch 75/205\n",
            "7/7 [==============================] - 0s 7ms/step - loss: 0.3271 - accuracy: 0.9000 - val_loss: 0.5403 - val_accuracy: 0.8684\n",
            "Epoch 76/205\n",
            "7/7 [==============================] - 0s 8ms/step - loss: 0.2787 - accuracy: 0.8800 - val_loss: 0.5661 - val_accuracy: 0.8684\n",
            "Epoch 77/205\n",
            "7/7 [==============================] - 0s 7ms/step - loss: 0.3037 - accuracy: 0.8800 - val_loss: 0.5517 - val_accuracy: 0.9211\n",
            "Epoch 78/205\n",
            "7/7 [==============================] - 0s 7ms/step - loss: 0.2964 - accuracy: 0.8800 - val_loss: 0.5274 - val_accuracy: 0.8947\n",
            "Epoch 79/205\n",
            "7/7 [==============================] - 0s 7ms/step - loss: 0.2997 - accuracy: 0.8850 - val_loss: 0.5312 - val_accuracy: 0.9211\n",
            "Epoch 80/205\n",
            "7/7 [==============================] - 0s 7ms/step - loss: 0.2856 - accuracy: 0.8850 - val_loss: 0.5444 - val_accuracy: 0.8947\n",
            "Epoch 81/205\n",
            "7/7 [==============================] - 0s 8ms/step - loss: 0.2670 - accuracy: 0.8950 - val_loss: 0.5389 - val_accuracy: 0.9211\n",
            "Epoch 82/205\n",
            "7/7 [==============================] - 0s 7ms/step - loss: 0.2918 - accuracy: 0.8850 - val_loss: 0.5368 - val_accuracy: 0.9211\n",
            "Epoch 83/205\n",
            "7/7 [==============================] - 0s 7ms/step - loss: 0.2635 - accuracy: 0.8900 - val_loss: 0.5551 - val_accuracy: 0.9211\n",
            "Epoch 84/205\n",
            "7/7 [==============================] - 0s 7ms/step - loss: 0.2686 - accuracy: 0.8850 - val_loss: 0.5012 - val_accuracy: 0.9211\n",
            "Epoch 85/205\n",
            "7/7 [==============================] - 0s 7ms/step - loss: 0.3259 - accuracy: 0.8850 - val_loss: 0.5140 - val_accuracy: 0.9211\n",
            "Epoch 86/205\n",
            "7/7 [==============================] - 0s 8ms/step - loss: 0.2607 - accuracy: 0.9100 - val_loss: 0.5528 - val_accuracy: 0.8947\n",
            "Epoch 87/205\n",
            "7/7 [==============================] - 0s 7ms/step - loss: 0.3005 - accuracy: 0.9050 - val_loss: 0.5203 - val_accuracy: 0.9211\n",
            "Epoch 88/205\n",
            "7/7 [==============================] - 0s 7ms/step - loss: 0.2739 - accuracy: 0.8800 - val_loss: 0.5362 - val_accuracy: 0.9211\n",
            "Epoch 89/205\n",
            "7/7 [==============================] - 0s 7ms/step - loss: 0.2588 - accuracy: 0.8900 - val_loss: 0.5085 - val_accuracy: 0.9211\n",
            "Epoch 90/205\n",
            "7/7 [==============================] - 0s 7ms/step - loss: 0.2409 - accuracy: 0.8950 - val_loss: 0.5126 - val_accuracy: 0.9211\n",
            "Epoch 91/205\n",
            "7/7 [==============================] - 0s 8ms/step - loss: 0.2387 - accuracy: 0.8900 - val_loss: 0.5053 - val_accuracy: 0.9211\n",
            "Epoch 92/205\n",
            "7/7 [==============================] - 0s 8ms/step - loss: 0.2605 - accuracy: 0.9000 - val_loss: 0.5098 - val_accuracy: 0.9211\n",
            "Epoch 93/205\n",
            "7/7 [==============================] - 0s 7ms/step - loss: 0.2656 - accuracy: 0.9050 - val_loss: 0.5015 - val_accuracy: 0.9211\n",
            "Epoch 94/205\n",
            "7/7 [==============================] - 0s 7ms/step - loss: 0.2326 - accuracy: 0.8950 - val_loss: 0.5062 - val_accuracy: 0.8947\n",
            "Epoch 95/205\n",
            "7/7 [==============================] - 0s 8ms/step - loss: 0.2328 - accuracy: 0.8900 - val_loss: 0.5283 - val_accuracy: 0.9211\n",
            "Epoch 96/205\n",
            "7/7 [==============================] - 0s 7ms/step - loss: 0.2482 - accuracy: 0.9000 - val_loss: 0.5218 - val_accuracy: 0.9211\n",
            "Epoch 97/205\n",
            "7/7 [==============================] - 0s 7ms/step - loss: 0.2317 - accuracy: 0.9100 - val_loss: 0.5090 - val_accuracy: 0.9211\n",
            "Epoch 98/205\n",
            "7/7 [==============================] - 0s 7ms/step - loss: 0.2445 - accuracy: 0.9000 - val_loss: 0.5108 - val_accuracy: 0.9211\n",
            "Epoch 99/205\n",
            "7/7 [==============================] - 0s 7ms/step - loss: 0.2575 - accuracy: 0.9050 - val_loss: 0.5194 - val_accuracy: 0.9211\n",
            "Epoch 100/205\n",
            "7/7 [==============================] - 0s 7ms/step - loss: 0.2918 - accuracy: 0.8750 - val_loss: 0.5310 - val_accuracy: 0.9211\n",
            "Epoch 101/205\n",
            "7/7 [==============================] - 0s 7ms/step - loss: 0.2509 - accuracy: 0.9050 - val_loss: 0.5062 - val_accuracy: 0.9211\n",
            "Epoch 102/205\n",
            "7/7 [==============================] - 0s 7ms/step - loss: 0.2440 - accuracy: 0.9200 - val_loss: 0.5193 - val_accuracy: 0.9211\n",
            "Epoch 103/205\n",
            "7/7 [==============================] - 0s 7ms/step - loss: 0.2283 - accuracy: 0.9050 - val_loss: 0.5326 - val_accuracy: 0.8947\n",
            "Epoch 104/205\n",
            "7/7 [==============================] - 0s 7ms/step - loss: 0.2305 - accuracy: 0.8950 - val_loss: 0.5165 - val_accuracy: 0.8947\n",
            "Epoch 105/205\n",
            "7/7 [==============================] - 0s 8ms/step - loss: 0.2257 - accuracy: 0.9150 - val_loss: 0.5118 - val_accuracy: 0.9211\n",
            "Epoch 106/205\n",
            "7/7 [==============================] - 0s 7ms/step - loss: 0.2114 - accuracy: 0.9150 - val_loss: 0.5215 - val_accuracy: 0.9211\n",
            "Epoch 107/205\n",
            "7/7 [==============================] - 0s 7ms/step - loss: 0.2174 - accuracy: 0.9000 - val_loss: 0.5246 - val_accuracy: 0.9211\n",
            "Epoch 108/205\n",
            "7/7 [==============================] - 0s 7ms/step - loss: 0.2451 - accuracy: 0.9150 - val_loss: 0.5084 - val_accuracy: 0.9211\n",
            "Epoch 109/205\n",
            "7/7 [==============================] - 0s 8ms/step - loss: 0.2288 - accuracy: 0.9000 - val_loss: 0.5115 - val_accuracy: 0.9211\n",
            "Epoch 110/205\n",
            "7/7 [==============================] - 0s 7ms/step - loss: 0.2910 - accuracy: 0.9200 - val_loss: 0.5103 - val_accuracy: 0.9211\n",
            "Epoch 111/205\n",
            "7/7 [==============================] - 0s 7ms/step - loss: 0.2293 - accuracy: 0.8950 - val_loss: 0.5323 - val_accuracy: 0.8421\n",
            "Epoch 112/205\n",
            "7/7 [==============================] - 0s 7ms/step - loss: 0.2506 - accuracy: 0.9050 - val_loss: 0.5419 - val_accuracy: 0.8947\n",
            "Epoch 113/205\n",
            "7/7 [==============================] - 0s 7ms/step - loss: 0.2834 - accuracy: 0.9150 - val_loss: 0.5276 - val_accuracy: 0.9211\n",
            "Epoch 114/205\n",
            "7/7 [==============================] - 0s 8ms/step - loss: 0.2219 - accuracy: 0.9150 - val_loss: 0.4876 - val_accuracy: 0.9211\n",
            "Epoch 115/205\n",
            "7/7 [==============================] - 0s 7ms/step - loss: 0.2093 - accuracy: 0.9100 - val_loss: 0.4960 - val_accuracy: 0.9211\n",
            "Epoch 116/205\n",
            "7/7 [==============================] - 0s 7ms/step - loss: 0.2661 - accuracy: 0.8950 - val_loss: 0.5010 - val_accuracy: 0.8947\n",
            "Epoch 117/205\n",
            "7/7 [==============================] - 0s 7ms/step - loss: 0.2683 - accuracy: 0.8700 - val_loss: 0.5193 - val_accuracy: 0.9211\n",
            "Epoch 118/205\n",
            "7/7 [==============================] - 0s 7ms/step - loss: 0.2484 - accuracy: 0.9100 - val_loss: 0.5027 - val_accuracy: 0.9211\n",
            "Epoch 119/205\n",
            "7/7 [==============================] - 0s 7ms/step - loss: 0.2256 - accuracy: 0.9250 - val_loss: 0.5040 - val_accuracy: 0.9211\n",
            "Epoch 120/205\n",
            "7/7 [==============================] - 0s 7ms/step - loss: 0.2599 - accuracy: 0.9250 - val_loss: 0.5090 - val_accuracy: 0.9211\n",
            "Epoch 121/205\n",
            "7/7 [==============================] - 0s 7ms/step - loss: 0.2441 - accuracy: 0.9150 - val_loss: 0.5617 - val_accuracy: 0.8158\n",
            "Epoch 122/205\n",
            "7/7 [==============================] - 0s 7ms/step - loss: 0.2124 - accuracy: 0.9500 - val_loss: 0.4991 - val_accuracy: 0.9211\n",
            "Epoch 123/205\n",
            "7/7 [==============================] - 0s 7ms/step - loss: 0.2198 - accuracy: 0.9350 - val_loss: 0.4793 - val_accuracy: 0.9211\n",
            "Epoch 124/205\n",
            "7/7 [==============================] - 0s 8ms/step - loss: 0.2124 - accuracy: 0.9300 - val_loss: 0.4973 - val_accuracy: 0.9211\n",
            "Epoch 125/205\n",
            "7/7 [==============================] - 0s 7ms/step - loss: 0.2370 - accuracy: 0.9100 - val_loss: 0.5205 - val_accuracy: 0.9211\n",
            "Epoch 126/205\n",
            "7/7 [==============================] - 0s 7ms/step - loss: 0.2262 - accuracy: 0.9200 - val_loss: 0.4951 - val_accuracy: 0.9211\n",
            "Epoch 127/205\n",
            "7/7 [==============================] - 0s 7ms/step - loss: 0.2195 - accuracy: 0.8950 - val_loss: 0.4968 - val_accuracy: 0.8947\n",
            "Epoch 128/205\n",
            "7/7 [==============================] - 0s 7ms/step - loss: 0.2073 - accuracy: 0.9250 - val_loss: 0.5323 - val_accuracy: 0.9211\n",
            "Epoch 129/205\n",
            "7/7 [==============================] - 0s 7ms/step - loss: 0.2429 - accuracy: 0.9250 - val_loss: 0.4942 - val_accuracy: 0.9211\n",
            "Epoch 130/205\n",
            "7/7 [==============================] - 0s 8ms/step - loss: 0.2410 - accuracy: 0.9100 - val_loss: 0.4883 - val_accuracy: 0.9211\n",
            "Epoch 131/205\n",
            "7/7 [==============================] - 0s 7ms/step - loss: 0.2686 - accuracy: 0.9100 - val_loss: 0.5109 - val_accuracy: 0.9211\n",
            "Epoch 132/205\n",
            "7/7 [==============================] - 0s 7ms/step - loss: 0.2402 - accuracy: 0.9250 - val_loss: 0.4819 - val_accuracy: 0.8684\n",
            "Epoch 133/205\n",
            "7/7 [==============================] - 0s 8ms/step - loss: 0.2275 - accuracy: 0.9300 - val_loss: 0.5338 - val_accuracy: 0.8947\n",
            "Epoch 134/205\n",
            "7/7 [==============================] - 0s 7ms/step - loss: 0.1973 - accuracy: 0.9300 - val_loss: 0.4875 - val_accuracy: 0.9211\n",
            "Epoch 135/205\n",
            "7/7 [==============================] - 0s 7ms/step - loss: 0.2284 - accuracy: 0.9200 - val_loss: 0.4689 - val_accuracy: 0.9211\n",
            "Epoch 136/205\n",
            "7/7 [==============================] - 0s 7ms/step - loss: 0.2908 - accuracy: 0.9100 - val_loss: 0.5080 - val_accuracy: 0.8947\n",
            "Epoch 137/205\n",
            "7/7 [==============================] - 0s 8ms/step - loss: 0.1806 - accuracy: 0.9450 - val_loss: 0.5193 - val_accuracy: 0.8684\n",
            "Epoch 138/205\n",
            "7/7 [==============================] - 0s 8ms/step - loss: 0.2113 - accuracy: 0.9450 - val_loss: 0.5157 - val_accuracy: 0.8947\n",
            "Epoch 139/205\n",
            "7/7 [==============================] - 0s 7ms/step - loss: 0.2478 - accuracy: 0.9200 - val_loss: 0.5129 - val_accuracy: 0.9211\n",
            "Epoch 140/205\n",
            "7/7 [==============================] - 0s 7ms/step - loss: 0.2240 - accuracy: 0.9150 - val_loss: 0.4700 - val_accuracy: 0.9211\n",
            "Epoch 141/205\n",
            "7/7 [==============================] - 0s 7ms/step - loss: 0.1795 - accuracy: 0.9200 - val_loss: 0.5143 - val_accuracy: 0.9211\n",
            "Epoch 142/205\n",
            "7/7 [==============================] - 0s 7ms/step - loss: 0.2229 - accuracy: 0.9150 - val_loss: 0.4927 - val_accuracy: 0.9211\n",
            "Epoch 143/205\n",
            "7/7 [==============================] - 0s 7ms/step - loss: 0.1974 - accuracy: 0.9300 - val_loss: 0.5044 - val_accuracy: 0.8947\n",
            "Epoch 144/205\n",
            "7/7 [==============================] - 0s 7ms/step - loss: 0.1762 - accuracy: 0.9400 - val_loss: 0.4790 - val_accuracy: 0.8947\n",
            "Epoch 145/205\n",
            "7/7 [==============================] - 0s 7ms/step - loss: 0.1969 - accuracy: 0.9200 - val_loss: 0.4882 - val_accuracy: 0.9211\n",
            "Epoch 146/205\n",
            "7/7 [==============================] - 0s 7ms/step - loss: 0.1988 - accuracy: 0.9200 - val_loss: 0.4820 - val_accuracy: 0.8947\n",
            "Epoch 147/205\n",
            "7/7 [==============================] - 0s 7ms/step - loss: 0.2053 - accuracy: 0.9250 - val_loss: 0.4591 - val_accuracy: 0.9211\n",
            "Epoch 148/205\n",
            "7/7 [==============================] - 0s 7ms/step - loss: 0.1795 - accuracy: 0.9550 - val_loss: 0.5131 - val_accuracy: 0.8947\n",
            "Epoch 149/205\n",
            "7/7 [==============================] - 0s 8ms/step - loss: 0.1896 - accuracy: 0.9150 - val_loss: 0.4887 - val_accuracy: 0.9211\n",
            "Epoch 150/205\n",
            "7/7 [==============================] - 0s 7ms/step - loss: 0.1788 - accuracy: 0.9150 - val_loss: 0.4779 - val_accuracy: 0.9211\n",
            "Epoch 151/205\n",
            "7/7 [==============================] - 0s 7ms/step - loss: 0.1715 - accuracy: 0.9250 - val_loss: 0.4827 - val_accuracy: 0.9211\n",
            "Epoch 152/205\n",
            "7/7 [==============================] - 0s 8ms/step - loss: 0.1861 - accuracy: 0.9300 - val_loss: 0.4736 - val_accuracy: 0.9211\n",
            "Epoch 153/205\n",
            "7/7 [==============================] - 0s 7ms/step - loss: 0.1883 - accuracy: 0.9200 - val_loss: 0.5034 - val_accuracy: 0.8947\n",
            "Epoch 154/205\n",
            "7/7 [==============================] - 0s 7ms/step - loss: 0.1940 - accuracy: 0.9050 - val_loss: 0.4815 - val_accuracy: 0.9474\n",
            "Epoch 155/205\n",
            "7/7 [==============================] - 0s 7ms/step - loss: 0.1821 - accuracy: 0.9300 - val_loss: 0.4858 - val_accuracy: 0.9474\n",
            "Epoch 156/205\n",
            "7/7 [==============================] - 0s 7ms/step - loss: 0.1801 - accuracy: 0.9200 - val_loss: 0.4743 - val_accuracy: 0.9211\n",
            "Epoch 157/205\n",
            "7/7 [==============================] - 0s 7ms/step - loss: 0.1770 - accuracy: 0.9150 - val_loss: 0.4805 - val_accuracy: 0.9211\n",
            "Epoch 158/205\n",
            "7/7 [==============================] - 0s 7ms/step - loss: 0.1832 - accuracy: 0.9650 - val_loss: 0.4813 - val_accuracy: 0.9474\n",
            "Epoch 159/205\n",
            "7/7 [==============================] - 0s 7ms/step - loss: 0.1669 - accuracy: 0.9350 - val_loss: 0.4743 - val_accuracy: 0.9211\n",
            "Epoch 160/205\n",
            "7/7 [==============================] - 0s 7ms/step - loss: 0.1740 - accuracy: 0.9300 - val_loss: 0.4816 - val_accuracy: 0.9211\n",
            "Epoch 161/205\n",
            "7/7 [==============================] - 0s 7ms/step - loss: 0.1634 - accuracy: 0.9350 - val_loss: 0.4859 - val_accuracy: 0.9211\n",
            "Epoch 162/205\n",
            "7/7 [==============================] - 0s 8ms/step - loss: 0.1700 - accuracy: 0.9350 - val_loss: 0.4756 - val_accuracy: 0.9211\n",
            "Epoch 163/205\n",
            "7/7 [==============================] - 0s 7ms/step - loss: 0.1932 - accuracy: 0.9250 - val_loss: 0.4877 - val_accuracy: 0.9474\n",
            "Epoch 164/205\n",
            "7/7 [==============================] - 0s 7ms/step - loss: 0.2186 - accuracy: 0.9200 - val_loss: 0.5362 - val_accuracy: 0.8947\n",
            "Epoch 165/205\n",
            "7/7 [==============================] - 0s 7ms/step - loss: 0.2156 - accuracy: 0.9300 - val_loss: 0.4422 - val_accuracy: 0.9211\n",
            "Epoch 166/205\n",
            "7/7 [==============================] - 0s 7ms/step - loss: 0.1743 - accuracy: 0.9350 - val_loss: 0.4890 - val_accuracy: 0.8947\n",
            "Epoch 167/205\n",
            "7/7 [==============================] - 0s 7ms/step - loss: 0.2089 - accuracy: 0.9350 - val_loss: 0.4747 - val_accuracy: 0.9211\n",
            "Epoch 168/205\n",
            "7/7 [==============================] - 0s 7ms/step - loss: 0.1942 - accuracy: 0.9150 - val_loss: 0.4778 - val_accuracy: 0.9474\n",
            "Epoch 169/205\n",
            "7/7 [==============================] - 0s 7ms/step - loss: 0.2246 - accuracy: 0.9100 - val_loss: 0.5265 - val_accuracy: 0.8421\n",
            "Epoch 170/205\n",
            "7/7 [==============================] - 0s 7ms/step - loss: 0.1864 - accuracy: 0.9300 - val_loss: 0.4562 - val_accuracy: 0.9211\n",
            "Epoch 171/205\n",
            "7/7 [==============================] - 0s 8ms/step - loss: 0.1483 - accuracy: 0.9450 - val_loss: 0.4682 - val_accuracy: 0.9211\n",
            "Epoch 172/205\n",
            "7/7 [==============================] - 0s 7ms/step - loss: 0.1776 - accuracy: 0.9200 - val_loss: 0.4736 - val_accuracy: 0.9474\n",
            "Epoch 173/205\n",
            "7/7 [==============================] - 0s 7ms/step - loss: 0.1864 - accuracy: 0.9550 - val_loss: 0.4818 - val_accuracy: 0.9211\n",
            "Epoch 174/205\n",
            "7/7 [==============================] - 0s 7ms/step - loss: 0.1871 - accuracy: 0.9400 - val_loss: 0.5166 - val_accuracy: 0.8947\n",
            "Epoch 175/205\n",
            "7/7 [==============================] - 0s 7ms/step - loss: 0.1970 - accuracy: 0.9200 - val_loss: 0.5045 - val_accuracy: 0.8947\n",
            "Epoch 176/205\n",
            "7/7 [==============================] - 0s 7ms/step - loss: 0.1690 - accuracy: 0.9500 - val_loss: 0.4509 - val_accuracy: 0.9211\n",
            "Epoch 177/205\n",
            "7/7 [==============================] - 0s 8ms/step - loss: 0.1852 - accuracy: 0.9150 - val_loss: 0.4703 - val_accuracy: 0.9211\n",
            "Epoch 178/205\n",
            "7/7 [==============================] - 0s 7ms/step - loss: 0.1743 - accuracy: 0.9350 - val_loss: 0.5015 - val_accuracy: 0.9211\n",
            "Epoch 179/205\n",
            "7/7 [==============================] - 0s 7ms/step - loss: 0.1407 - accuracy: 0.9550 - val_loss: 0.4839 - val_accuracy: 0.9211\n",
            "Epoch 180/205\n",
            "7/7 [==============================] - 0s 7ms/step - loss: 0.1581 - accuracy: 0.9400 - val_loss: 0.4625 - val_accuracy: 0.9211\n",
            "Epoch 181/205\n",
            "7/7 [==============================] - 0s 8ms/step - loss: 0.1605 - accuracy: 0.9600 - val_loss: 0.4685 - val_accuracy: 0.9211\n",
            "Epoch 182/205\n",
            "7/7 [==============================] - 0s 8ms/step - loss: 0.1489 - accuracy: 0.9550 - val_loss: 0.4557 - val_accuracy: 0.9474\n",
            "Epoch 183/205\n",
            "7/7 [==============================] - 0s 7ms/step - loss: 0.1430 - accuracy: 0.9700 - val_loss: 0.4606 - val_accuracy: 0.9211\n",
            "Epoch 184/205\n",
            "7/7 [==============================] - 0s 7ms/step - loss: 0.1530 - accuracy: 0.9550 - val_loss: 0.4666 - val_accuracy: 0.9211\n",
            "Epoch 185/205\n",
            "7/7 [==============================] - 0s 8ms/step - loss: 0.1429 - accuracy: 0.9350 - val_loss: 0.4792 - val_accuracy: 0.9211\n",
            "Epoch 186/205\n",
            "7/7 [==============================] - 0s 7ms/step - loss: 0.1403 - accuracy: 0.9650 - val_loss: 0.4656 - val_accuracy: 0.9474\n",
            "Epoch 187/205\n",
            "7/7 [==============================] - 0s 8ms/step - loss: 0.1386 - accuracy: 0.9700 - val_loss: 0.4629 - val_accuracy: 0.9474\n",
            "Epoch 188/205\n",
            "7/7 [==============================] - 0s 7ms/step - loss: 0.1444 - accuracy: 0.9600 - val_loss: 0.4714 - val_accuracy: 0.9211\n",
            "Epoch 189/205\n",
            "7/7 [==============================] - 0s 7ms/step - loss: 0.1641 - accuracy: 0.9550 - val_loss: 0.4892 - val_accuracy: 0.9474\n",
            "Epoch 190/205\n",
            "7/7 [==============================] - 0s 8ms/step - loss: 0.1370 - accuracy: 0.9400 - val_loss: 0.4799 - val_accuracy: 0.9211\n",
            "Epoch 191/205\n",
            "7/7 [==============================] - 0s 7ms/step - loss: 0.1319 - accuracy: 0.9400 - val_loss: 0.4681 - val_accuracy: 0.9211\n",
            "Epoch 192/205\n",
            "7/7 [==============================] - 0s 8ms/step - loss: 0.1651 - accuracy: 0.9650 - val_loss: 0.4535 - val_accuracy: 0.9474\n",
            "Epoch 193/205\n",
            "7/7 [==============================] - 0s 7ms/step - loss: 0.1635 - accuracy: 0.9350 - val_loss: 0.4935 - val_accuracy: 0.8947\n",
            "Epoch 194/205\n",
            "7/7 [==============================] - 0s 7ms/step - loss: 0.1598 - accuracy: 0.9600 - val_loss: 0.4891 - val_accuracy: 0.9211\n",
            "Epoch 195/205\n",
            "7/7 [==============================] - 0s 7ms/step - loss: 0.1417 - accuracy: 0.9500 - val_loss: 0.4439 - val_accuracy: 0.9211\n",
            "Epoch 196/205\n",
            "7/7 [==============================] - 0s 7ms/step - loss: 0.1777 - accuracy: 0.9400 - val_loss: 0.4153 - val_accuracy: 0.9474\n",
            "Epoch 197/205\n",
            "7/7 [==============================] - 0s 8ms/step - loss: 0.1695 - accuracy: 0.9550 - val_loss: 0.4713 - val_accuracy: 0.8684\n",
            "Epoch 198/205\n",
            "7/7 [==============================] - 0s 8ms/step - loss: 0.1781 - accuracy: 0.9250 - val_loss: 0.4797 - val_accuracy: 0.8684\n",
            "Epoch 199/205\n",
            "7/7 [==============================] - 0s 7ms/step - loss: 0.1418 - accuracy: 0.9500 - val_loss: 0.4491 - val_accuracy: 0.9474\n",
            "Epoch 200/205\n",
            "7/7 [==============================] - 0s 8ms/step - loss: 0.1432 - accuracy: 0.9550 - val_loss: 0.4471 - val_accuracy: 0.9474\n",
            "Epoch 201/205\n",
            "7/7 [==============================] - 0s 7ms/step - loss: 0.1374 - accuracy: 0.9500 - val_loss: 0.4679 - val_accuracy: 0.9211\n",
            "Epoch 202/205\n",
            "7/7 [==============================] - 0s 7ms/step - loss: 0.1339 - accuracy: 0.9600 - val_loss: 0.4785 - val_accuracy: 0.9211\n",
            "Epoch 203/205\n",
            "7/7 [==============================] - 0s 7ms/step - loss: 0.1581 - accuracy: 0.9600 - val_loss: 0.4584 - val_accuracy: 0.9211\n",
            "Epoch 204/205\n",
            "7/7 [==============================] - 0s 7ms/step - loss: 0.1444 - accuracy: 0.9300 - val_loss: 0.4529 - val_accuracy: 0.9211\n",
            "Epoch 205/205\n",
            "7/7 [==============================] - 0s 7ms/step - loss: 0.1494 - accuracy: 0.9550 - val_loss: 0.4616 - val_accuracy: 0.9211\n"
          ],
          "name": "stdout"
        }
      ]
    },
    {
      "cell_type": "code",
      "metadata": {
        "id": "2hrjg6j3P7Iw",
        "colab_type": "code",
        "colab": {
          "base_uri": "https://localhost:8080/",
          "height": 221
        },
        "outputId": "505bdcfd-3356-4783-acc4-ce247cd64b94"
      },
      "source": [
        "model.summary()\n"
      ],
      "execution_count": 30,
      "outputs": [
        {
          "output_type": "stream",
          "text": [
            "Model: \"sequential\"\n",
            "_________________________________________________________________\n",
            "Layer (type)                 Output Shape              Param #   \n",
            "=================================================================\n",
            "dense (Dense)                (None, 128)               384       \n",
            "_________________________________________________________________\n",
            "dense_1 (Dense)              (None, 7)                 903       \n",
            "=================================================================\n",
            "Total params: 1,287\n",
            "Trainable params: 1,287\n",
            "Non-trainable params: 0\n",
            "_________________________________________________________________\n"
          ],
          "name": "stdout"
        }
      ]
    },
    {
      "cell_type": "code",
      "metadata": {
        "id": "0Q7jNaVDP5uv",
        "colab_type": "code",
        "colab": {
          "base_uri": "https://localhost:8080/",
          "height": 34
        },
        "outputId": "75616447-bddd-4dc9-fc5f-7fa60b9f919d"
      },
      "source": [
        "from keras import backend as K\n",
        "\n",
        "# with a Sequential model\n",
        "get_1st_layer_output = K.function([model.layers[0].input],\n",
        "                                  [model.layers[0].output])\n",
        "layer_output = get_1st_layer_output([train_X])[0]"
      ],
      "execution_count": 31,
      "outputs": [
        {
          "output_type": "stream",
          "text": [
            "Using TensorFlow backend.\n"
          ],
          "name": "stderr"
        }
      ]
    },
    {
      "cell_type": "code",
      "metadata": {
        "id": "HmpdsspsRI66",
        "colab_type": "code",
        "colab": {
          "base_uri": "https://localhost:8080/",
          "height": 34
        },
        "outputId": "854f8fc6-8cdf-4162-8657-b24b4c2a5651"
      },
      "source": [
        "layer_output.shape"
      ],
      "execution_count": 32,
      "outputs": [
        {
          "output_type": "execute_result",
          "data": {
            "text/plain": [
              "(200, 128)"
            ]
          },
          "metadata": {
            "tags": []
          },
          "execution_count": 32
        }
      ]
    },
    {
      "cell_type": "code",
      "metadata": {
        "id": "aM2xjrm1RS5u",
        "colab_type": "code",
        "colab": {}
      },
      "source": [
        "from sklearn.decomposition import PCA\n",
        "pca = PCA(n_components=2)\n",
        "pca_result = pca.fit_transform(layer_output)"
      ],
      "execution_count": 0,
      "outputs": []
    },
    {
      "cell_type": "code",
      "metadata": {
        "id": "cClubGsUR4rl",
        "colab_type": "code",
        "colab": {
          "base_uri": "https://localhost:8080/",
          "height": 34
        },
        "outputId": "12ce99be-d096-4f64-fb57-86a6929549d8"
      },
      "source": [
        "pca_result.shape"
      ],
      "execution_count": 34,
      "outputs": [
        {
          "output_type": "execute_result",
          "data": {
            "text/plain": [
              "(200, 2)"
            ]
          },
          "metadata": {
            "tags": []
          },
          "execution_count": 34
        }
      ]
    },
    {
      "cell_type": "code",
      "metadata": {
        "id": "DuKkRV3hRMMc",
        "colab_type": "code",
        "colab": {
          "base_uri": "https://localhost:8080/",
          "height": 338
        },
        "outputId": "c7a1e6a0-5437-49fb-8831-f3c387557f15"
      },
      "source": [
        "import matplotlib.pyplot as plt \n",
        "cont_dict = {\"Africa\": 0, \"Antarctica\":1, \"Asia\":2, \"Australia\":3, \"Europe\":4, \"North America\":5, \"South America\":6}\n",
        "Xax=pca_result[:,0]\n",
        "Yax=pca_result[:,1]\n",
        "labels=train_Y\n",
        "cdict={0:'red',1:'green',2:'blue', 3:'pink',4:\"grey\",5:\"black\", 6:'yellow'}\n",
        "labl={0:'Africa',1:'Antractica',2:\"Asia\",3:\"Australia\",4:\"Europe\",5:\"NA\", 6:\"SA\"}\n",
        "fig,ax=plt.subplots(figsize=(7,5))\n",
        "fig.patch.set_facecolor('white')\n",
        "for l in np.unique(labels):\n",
        " ix=np.where(labels==l)\n",
        " ax.scatter(Xax[ix],Yax[ix],c=cdict[l],s=40,\n",
        "           label=labl[l])\n",
        "# for loop ends\n",
        "plt.xlabel(\"First Principal Component\",fontsize=14)\n",
        "plt.ylabel(\"Second Principal Component\",fontsize=14)\n",
        "plt.legend()\n",
        "plt.show()"
      ],
      "execution_count": 35,
      "outputs": [
        {
          "output_type": "display_data",
          "data": {
            "image/png": "[encoded data removed]",
            "text/plain": [
              "<Figure size 504x360 with 1 Axes>"
            ]
          },
          "metadata": {
            "tags": []
          }
        }
      ]
    },
    {
      "cell_type": "code",
      "metadata": {
        "id": "ZkgA66hGSUoQ",
        "colab_type": "code",
        "colab": {
          "base_uri": "https://localhost:8080/",
          "height": 338
        },
        "outputId": "4b39d410-9896-4820-992b-b8d4fac199e7"
      },
      "source": [
        "from keras import backend as K\n",
        "\n",
        "# with a Sequential model\n",
        "get_1st_layer_output = K.function([model.layers[0].input],\n",
        "                                  [model.layers[0].output])\n",
        "layer_output = get_1st_layer_output([val_X])[0]\n",
        "\n",
        "from sklearn.decomposition import PCA\n",
        "pca = PCA(n_components=2)\n",
        "pca_result = pca.fit_transform(layer_output)\n",
        "\n",
        "\n",
        "import matplotlib.pyplot as plt \n",
        "cont_dict = {\"Africa\": 0, \"Antarctica\":1, \"Asia\":2, \"Australia\":3, \"Europe\":4, \"North America\":5, \"South America\":6}\n",
        "Xax=pca_result[:,0]\n",
        "Yax=pca_result[:,1]\n",
        "labels=val_Y\n",
        "cdict={0:'red',1:'green',2:'blue', 3:'pink',4:\"grey\",5:\"black\", 6:'yellow'}\n",
        "labl={0:'Africa',1:'Antractica',2:\"Asia\",3:\"Australia\",4:\"Europe\",5:\"NA\", 6:\"SA\"}\n",
        "fig,ax=plt.subplots(figsize=(7,5))\n",
        "fig.patch.set_facecolor('white')\n",
        "for l in np.unique(labels):\n",
        " ix=np.where(labels==l)\n",
        " ax.scatter(Xax[ix],Yax[ix],c=cdict[l],s=40,\n",
        "           label=labl[l])\n",
        "# for loop ends\n",
        "plt.xlabel(\"First Principal Component\",fontsize=14)\n",
        "plt.ylabel(\"Second Principal Component\",fontsize=14)\n",
        "plt.legend()\n",
        "plt.show()"
      ],
      "execution_count": 36,
      "outputs": [
        {
          "output_type": "display_data",
          "data": {
            "image/png": "[encoded data removed]",
            "text/plain": [
              "<Figure size 504x360 with 1 Axes>"
            ]
          },
          "metadata": {
            "tags": []
          }
        }
      ]
    },
    {
      "cell_type": "code",
      "metadata": {
        "id": "dePQv0jfXyqZ",
        "colab_type": "code",
        "outputId": "700f40ca-3456-4e75-d7af-0042164d1e4f",
        "colab": {
          "base_uri": "https://localhost:8080/",
          "height": 590
        }
      },
      "source": [
        "# list all data in history\n",
        "print(history.history.keys())\n",
        "# summarize history for accuracy\n",
        "plt.plot(history.history['accuracy'])\n",
        "plt.plot(history.history['val_accuracy'])\n",
        "plt.title('model accuracy')\n",
        "plt.ylabel('accuracy')\n",
        "plt.xlabel('epoch')\n",
        "plt.legend(['train', 'test'], loc='upper left')\n",
        "plt.show()\n",
        "# summarize history for loss\n",
        "plt.plot(history.history['loss'])\n",
        "plt.plot(history.history['val_loss'])\n",
        "plt.title('model loss')\n",
        "plt.ylabel('loss')\n",
        "plt.xlabel('epoch')\n",
        "plt.legend(['train', 'test'], loc='upper left')\n",
        "plt.show()"
      ],
      "execution_count": 37,
      "outputs": [
        {
          "output_type": "stream",
          "text": [
            "dict_keys(['loss', 'accuracy', 'val_loss', 'val_accuracy'])\n"
          ],
          "name": "stdout"
        },
        {
          "output_type": "display_data",
          "data": {
            "image/png": "[encoded data removed]",
            "text/plain": [
              "<Figure size 432x288 with 1 Axes>"
            ]
          },
          "metadata": {
            "tags": [],
            "needs_background": "light"
          }
        },
        {
          "output_type": "display_data",
          "data": {
            "image/png": "[encoded data removed]",
            "text/plain": [
              "<Figure size 432x288 with 1 Axes>"
            ]
          },
          "metadata": {
            "tags": [],
            "needs_background": "light"
          }
        }
      ]
    },
    {
      "cell_type": "code",
      "metadata": {
        "id": "Em3qZ0OIbsHP",
        "colab_type": "code",
        "colab": {}
      },
      "source": [
        ""
      ],
      "execution_count": 0,
      "outputs": []
    }
  ]
}