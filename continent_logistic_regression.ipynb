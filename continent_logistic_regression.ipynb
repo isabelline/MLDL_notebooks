{
  "nbformat": 4,
  "nbformat_minor": 0,
  "metadata": {
    "colab": {
      "name": "continent_logistic_regression.ipynb",
      "provenance": [],
      "machine_shape": "hm",
      "authorship_tag": "ABX9TyNwav/j/7eQicjjCfwE2UVB",
      "include_colab_link": true
    },
    "kernelspec": {
      "name": "python3",
      "display_name": "Python 3"
    }
  },
  "cells": [
    {
      "cell_type": "markdown",
      "metadata": {
        "id": "view-in-github",
        "colab_type": "text"
      },
      "source": [
        "<a href=\"https://colab.research.google.com/github/isabelline/MLDL_notebooks/blob/master/continent_logistic_regression.ipynb\" target=\"_parent\"><img src=\"https://colab.research.google.com/assets/colab-badge.svg\" alt=\"Open In Colab\"/></a>"
      ]
    },
    {
      "cell_type": "code",
      "metadata": {
        "id": "3usl-177IpEY",
        "colab_type": "code",
        "colab": {}
      },
      "source": [
        "db = \"'AD','Europe','AE','Asia','AF','Asia','AG','North America','AI','North America','AL','Europe','AM','Asia','AN','North America','AO','Africa','AQ','Antarctica','AR','South America','AS','Australia','AT','Europe','AU','Australia','AW','North America','AZ','Asia','BA','Europe','BB','North America','BD','Asia','BE','Europe','BF','Africa','BG','Europe','BH','Asia','BI','Africa','BJ','Africa','BM','North America','BN','Asia','BO','South America','BR','South America','BS','North America','BT','Asia','BW','Africa','BY','Europe','BZ','North America','CA','North America','CC','Asia','CD','Africa','CF','Africa','CG','Africa','CH','Europe','CI','Africa','CK','Australia','CL','South America','CM','Africa','CN','Asia','CO','South America','CR','North America','CU','North America','CV','Africa','CX','Asia','CY','Asia','CZ','Europe','DE','Europe','DJ','Africa','DK','Europe','DM','North America','DO','North America','DZ','Africa','EC','South America','EE','Europe','EG','Africa','EH','Africa','ER','Africa','ES','Europe','ET','Africa','FI','Europe','FJ','Australia','FK','South America','FM','Australia','FO','Europe','FR','Europe','GA','Africa','GB','Europe','GD','North America','GE','Asia','GF','South America','GG','Europe','GH','Africa','GI','Europe','GL','North America','GM','Africa','GN','Africa','GP','North America','GQ','Africa','GR','Europe','GS','Antarctica','GT','North America','GU','Australia','GW','Africa','GY','South America','HK','Asia','HN','North America','HR','Europe','HT','North America','HU','Europe','ID','Asia','IE','Europe','IL','Asia','IM','Europe','IN','Asia','IO','Asia','IQ','Asia','IR','Asia','IS','Europe','IT','Europe','JE','Europe','JM','North America','JO','Asia','JP','Asia','KE','Africa','KG','Asia','KH','Asia','KI','Australia','KM','Africa','KN','North America','KP','Asia','KR','Asia','KW','Asia','KY','North America','KZ','Asia','LA','Asia','LB','Asia','LC','North America','LI','Europe','LK','Asia','LR','Africa','LS','Africa','LT','Europe','LU','Europe','LV','Europe','LY','Africa','MA','Africa','MC','Europe','MD','Europe','ME','Europe','MG','Africa','MH','Australia','MK','Europe','ML','Africa','MM','Asia','MN','Asia','MO','Asia','MP','Australia','MQ','North America','MR','Africa','MS','North America','MT','Europe','MU','Africa','MV','Asia','MW','Africa','MX','North America','MY','Asia','MZ','Africa','NA','Africa','NC','Australia','NE','Africa','NF','Australia','NG','Africa','NI','North America','NL','Europe','NO','Europe','NP','Asia','NR','Australia','NU','Australia','NZ','Australia','OM','Asia','PA','North America','PE','South America','PF','Australia','PG','Australia','PH','Asia','PK','Asia','PL','Europe','PM','North America','PN','Australia','PR','North America','PS','Asia','PT','Europe','PW','Australia','PY','South America','QA','Asia','RE','Africa','RO','Europe','RS','Europe','RU','Europe','RW','Africa','SA','Asia','SB','Australia','SC','Africa','SD','Africa','SE','Europe','SG','Asia','SH','Africa','SI','Europe','SJ','Europe','SK','Europe','SL','Africa','SM','Europe','SN','Africa','SO','Africa','SR','South America','ST','Africa','SV','North America','SY','Asia','SZ','Africa','TC','North America','TD','Africa','TF','Antarctica','TG','Africa','TH','Asia','TJ','Asia','TK','Australia','TM','Asia','TN','Africa','TO','Australia','TR','Asia','TT','North America','TV','Australia','TW','Asia','TZ','Africa','UA','Europe','UG','Africa','US','North America','UY','South America','UZ','Asia','VC','North America','VE','South America','VG','North America','VI','North America','VN','Asia','VU','Australia','WF','Australia','WS','Australia','YE','Asia','YT','Africa','ZA','Africa','ZM','Africa','ZW','Africa'\""
      ],
      "execution_count": 0,
      "outputs": []
    },
    {
      "cell_type": "code",
      "metadata": {
        "id": "kdTikAVJI_Qm",
        "colab_type": "code",
        "colab": {}
      },
      "source": [
        "tokens = db.split(\",\")"
      ],
      "execution_count": 0,
      "outputs": []
    },
    {
      "cell_type": "code",
      "metadata": {
        "id": "1Lwfac__Kzzf",
        "colab_type": "code",
        "colab": {
          "base_uri": "https://localhost:8080/",
          "height": 34
        },
        "outputId": "9d0e2174-4e83-4772-aa4a-3ae5fb3555ac"
      },
      "source": [
        "tokens[:5]"
      ],
      "execution_count": 3,
      "outputs": [
        {
          "output_type": "execute_result",
          "data": {
            "text/plain": [
              "[\"'AD'\", \"'Europe'\", \"'AE'\", \"'Asia'\", \"'AF'\"]"
            ]
          },
          "metadata": {
            "tags": []
          },
          "execution_count": 3
        }
      ]
    },
    {
      "cell_type": "code",
      "metadata": {
        "id": "iZkRCORRLVf8",
        "colab_type": "code",
        "colab": {
          "base_uri": "https://localhost:8080/",
          "height": 102
        },
        "outputId": "55dc9fcc-532d-4cbd-d018-f933a9f3b7ef"
      },
      "source": [
        "for i in range(0,10,2):\n",
        "  print(i)"
      ],
      "execution_count": 4,
      "outputs": [
        {
          "output_type": "stream",
          "text": [
            "0\n",
            "2\n",
            "4\n",
            "6\n",
            "8\n"
          ],
          "name": "stdout"
        }
      ]
    },
    {
      "cell_type": "code",
      "metadata": {
        "id": "7gJGVohKLuYN",
        "colab_type": "code",
        "colab": {}
      },
      "source": [
        "def clean_text(text):\n",
        "  if text[0] == \"'\":\n",
        "    text = text[1:]\n",
        "  if text[-1] == \"'\":\n",
        "    text = text[:-1]\n",
        "  return text"
      ],
      "execution_count": 0,
      "outputs": []
    },
    {
      "cell_type": "code",
      "metadata": {
        "id": "XVltPT_dK1QV",
        "colab_type": "code",
        "colab": {}
      },
      "source": [
        "country_continent = dict()\n",
        "for i in range(0,len(tokens),2):\n",
        "  country = clean_text(tokens[i])\n",
        "  continent = clean_text(tokens[i+1])\n",
        "  country_continent[country] = continent\n",
        "\n",
        "\n"
      ],
      "execution_count": 0,
      "outputs": []
    },
    {
      "cell_type": "code",
      "metadata": {
        "id": "Jbk1qInEL99x",
        "colab_type": "code",
        "colab": {
          "base_uri": "https://localhost:8080/",
          "height": 1000
        },
        "outputId": "49e89c0d-c20a-4f06-e7f9-121b858bdd73"
      },
      "source": [
        "country_continent"
      ],
      "execution_count": 7,
      "outputs": [
        {
          "output_type": "execute_result",
          "data": {
            "text/plain": [
              "{'AD': 'Europe',\n",
              " 'AE': 'Asia',\n",
              " 'AF': 'Asia',\n",
              " 'AG': 'North America',\n",
              " 'AI': 'North America',\n",
              " 'AL': 'Europe',\n",
              " 'AM': 'Asia',\n",
              " 'AN': 'North America',\n",
              " 'AO': 'Africa',\n",
              " 'AQ': 'Antarctica',\n",
              " 'AR': 'South America',\n",
              " 'AS': 'Australia',\n",
              " 'AT': 'Europe',\n",
              " 'AU': 'Australia',\n",
              " 'AW': 'North America',\n",
              " 'AZ': 'Asia',\n",
              " 'BA': 'Europe',\n",
              " 'BB': 'North America',\n",
              " 'BD': 'Asia',\n",
              " 'BE': 'Europe',\n",
              " 'BF': 'Africa',\n",
              " 'BG': 'Europe',\n",
              " 'BH': 'Asia',\n",
              " 'BI': 'Africa',\n",
              " 'BJ': 'Africa',\n",
              " 'BM': 'North America',\n",
              " 'BN': 'Asia',\n",
              " 'BO': 'South America',\n",
              " 'BR': 'South America',\n",
              " 'BS': 'North America',\n",
              " 'BT': 'Asia',\n",
              " 'BW': 'Africa',\n",
              " 'BY': 'Europe',\n",
              " 'BZ': 'North America',\n",
              " 'CA': 'North America',\n",
              " 'CC': 'Asia',\n",
              " 'CD': 'Africa',\n",
              " 'CF': 'Africa',\n",
              " 'CG': 'Africa',\n",
              " 'CH': 'Europe',\n",
              " 'CI': 'Africa',\n",
              " 'CK': 'Australia',\n",
              " 'CL': 'South America',\n",
              " 'CM': 'Africa',\n",
              " 'CN': 'Asia',\n",
              " 'CO': 'South America',\n",
              " 'CR': 'North America',\n",
              " 'CU': 'North America',\n",
              " 'CV': 'Africa',\n",
              " 'CX': 'Asia',\n",
              " 'CY': 'Asia',\n",
              " 'CZ': 'Europe',\n",
              " 'DE': 'Europe',\n",
              " 'DJ': 'Africa',\n",
              " 'DK': 'Europe',\n",
              " 'DM': 'North America',\n",
              " 'DO': 'North America',\n",
              " 'DZ': 'Africa',\n",
              " 'EC': 'South America',\n",
              " 'EE': 'Europe',\n",
              " 'EG': 'Africa',\n",
              " 'EH': 'Africa',\n",
              " 'ER': 'Africa',\n",
              " 'ES': 'Europe',\n",
              " 'ET': 'Africa',\n",
              " 'FI': 'Europe',\n",
              " 'FJ': 'Australia',\n",
              " 'FK': 'South America',\n",
              " 'FM': 'Australia',\n",
              " 'FO': 'Europe',\n",
              " 'FR': 'Europe',\n",
              " 'GA': 'Africa',\n",
              " 'GB': 'Europe',\n",
              " 'GD': 'North America',\n",
              " 'GE': 'Asia',\n",
              " 'GF': 'South America',\n",
              " 'GG': 'Europe',\n",
              " 'GH': 'Africa',\n",
              " 'GI': 'Europe',\n",
              " 'GL': 'North America',\n",
              " 'GM': 'Africa',\n",
              " 'GN': 'Africa',\n",
              " 'GP': 'North America',\n",
              " 'GQ': 'Africa',\n",
              " 'GR': 'Europe',\n",
              " 'GS': 'Antarctica',\n",
              " 'GT': 'North America',\n",
              " 'GU': 'Australia',\n",
              " 'GW': 'Africa',\n",
              " 'GY': 'South America',\n",
              " 'HK': 'Asia',\n",
              " 'HN': 'North America',\n",
              " 'HR': 'Europe',\n",
              " 'HT': 'North America',\n",
              " 'HU': 'Europe',\n",
              " 'ID': 'Asia',\n",
              " 'IE': 'Europe',\n",
              " 'IL': 'Asia',\n",
              " 'IM': 'Europe',\n",
              " 'IN': 'Asia',\n",
              " 'IO': 'Asia',\n",
              " 'IQ': 'Asia',\n",
              " 'IR': 'Asia',\n",
              " 'IS': 'Europe',\n",
              " 'IT': 'Europe',\n",
              " 'JE': 'Europe',\n",
              " 'JM': 'North America',\n",
              " 'JO': 'Asia',\n",
              " 'JP': 'Asia',\n",
              " 'KE': 'Africa',\n",
              " 'KG': 'Asia',\n",
              " 'KH': 'Asia',\n",
              " 'KI': 'Australia',\n",
              " 'KM': 'Africa',\n",
              " 'KN': 'North America',\n",
              " 'KP': 'Asia',\n",
              " 'KR': 'Asia',\n",
              " 'KW': 'Asia',\n",
              " 'KY': 'North America',\n",
              " 'KZ': 'Asia',\n",
              " 'LA': 'Asia',\n",
              " 'LB': 'Asia',\n",
              " 'LC': 'North America',\n",
              " 'LI': 'Europe',\n",
              " 'LK': 'Asia',\n",
              " 'LR': 'Africa',\n",
              " 'LS': 'Africa',\n",
              " 'LT': 'Europe',\n",
              " 'LU': 'Europe',\n",
              " 'LV': 'Europe',\n",
              " 'LY': 'Africa',\n",
              " 'MA': 'Africa',\n",
              " 'MC': 'Europe',\n",
              " 'MD': 'Europe',\n",
              " 'ME': 'Europe',\n",
              " 'MG': 'Africa',\n",
              " 'MH': 'Australia',\n",
              " 'MK': 'Europe',\n",
              " 'ML': 'Africa',\n",
              " 'MM': 'Asia',\n",
              " 'MN': 'Asia',\n",
              " 'MO': 'Asia',\n",
              " 'MP': 'Australia',\n",
              " 'MQ': 'North America',\n",
              " 'MR': 'Africa',\n",
              " 'MS': 'North America',\n",
              " 'MT': 'Europe',\n",
              " 'MU': 'Africa',\n",
              " 'MV': 'Asia',\n",
              " 'MW': 'Africa',\n",
              " 'MX': 'North America',\n",
              " 'MY': 'Asia',\n",
              " 'MZ': 'Africa',\n",
              " 'NA': 'Africa',\n",
              " 'NC': 'Australia',\n",
              " 'NE': 'Africa',\n",
              " 'NF': 'Australia',\n",
              " 'NG': 'Africa',\n",
              " 'NI': 'North America',\n",
              " 'NL': 'Europe',\n",
              " 'NO': 'Europe',\n",
              " 'NP': 'Asia',\n",
              " 'NR': 'Australia',\n",
              " 'NU': 'Australia',\n",
              " 'NZ': 'Australia',\n",
              " 'OM': 'Asia',\n",
              " 'PA': 'North America',\n",
              " 'PE': 'South America',\n",
              " 'PF': 'Australia',\n",
              " 'PG': 'Australia',\n",
              " 'PH': 'Asia',\n",
              " 'PK': 'Asia',\n",
              " 'PL': 'Europe',\n",
              " 'PM': 'North America',\n",
              " 'PN': 'Australia',\n",
              " 'PR': 'North America',\n",
              " 'PS': 'Asia',\n",
              " 'PT': 'Europe',\n",
              " 'PW': 'Australia',\n",
              " 'PY': 'South America',\n",
              " 'QA': 'Asia',\n",
              " 'RE': 'Africa',\n",
              " 'RO': 'Europe',\n",
              " 'RS': 'Europe',\n",
              " 'RU': 'Europe',\n",
              " 'RW': 'Africa',\n",
              " 'SA': 'Asia',\n",
              " 'SB': 'Australia',\n",
              " 'SC': 'Africa',\n",
              " 'SD': 'Africa',\n",
              " 'SE': 'Europe',\n",
              " 'SG': 'Asia',\n",
              " 'SH': 'Africa',\n",
              " 'SI': 'Europe',\n",
              " 'SJ': 'Europe',\n",
              " 'SK': 'Europe',\n",
              " 'SL': 'Africa',\n",
              " 'SM': 'Europe',\n",
              " 'SN': 'Africa',\n",
              " 'SO': 'Africa',\n",
              " 'SR': 'South America',\n",
              " 'ST': 'Africa',\n",
              " 'SV': 'North America',\n",
              " 'SY': 'Asia',\n",
              " 'SZ': 'Africa',\n",
              " 'TC': 'North America',\n",
              " 'TD': 'Africa',\n",
              " 'TF': 'Antarctica',\n",
              " 'TG': 'Africa',\n",
              " 'TH': 'Asia',\n",
              " 'TJ': 'Asia',\n",
              " 'TK': 'Australia',\n",
              " 'TM': 'Asia',\n",
              " 'TN': 'Africa',\n",
              " 'TO': 'Australia',\n",
              " 'TR': 'Asia',\n",
              " 'TT': 'North America',\n",
              " 'TV': 'Australia',\n",
              " 'TW': 'Asia',\n",
              " 'TZ': 'Africa',\n",
              " 'UA': 'Europe',\n",
              " 'UG': 'Africa',\n",
              " 'US': 'North America',\n",
              " 'UY': 'South America',\n",
              " 'UZ': 'Asia',\n",
              " 'VC': 'North America',\n",
              " 'VE': 'South America',\n",
              " 'VG': 'North America',\n",
              " 'VI': 'North America',\n",
              " 'VN': 'Asia',\n",
              " 'VU': 'Australia',\n",
              " 'WF': 'Australia',\n",
              " 'WS': 'Australia',\n",
              " 'YE': 'Asia',\n",
              " 'YT': 'Africa',\n",
              " 'ZA': 'Africa',\n",
              " 'ZM': 'Africa',\n",
              " 'ZW': 'Africa'}"
            ]
          },
          "metadata": {
            "tags": []
          },
          "execution_count": 7
        }
      ]
    },
    {
      "cell_type": "code",
      "metadata": {
        "id": "pzuWfs-NMAAh",
        "colab_type": "code",
        "colab": {}
      },
      "source": [
        "country_list = \"AD,AE,AF,AG,AI,AL,AM,AN,AO,AQ,AR,AS,AT,AU,AW,AZ,BA,BB,BD,BE,BF,BG,BH,BI,BJ,BM,BN,BO,BR,BS,BT,BV,BW,BY,BZ,CA,CC,CD,CF,CG,CH,CI,CK,CL,CM,CN,CO,CR,CU,CV,CX,CY,CZ,DE,DJ,DK,DM,DO,DZ,EC,EE,EG,EH,ER,ES,ET,FI,FJ,FK,FM,FO,FR,GA,GB,GD,GE,GF,GG,GH,GI,GL,GM,GN,GP,GQ,GR,GS,GT,GU,GW,GY,GZ,HK,HM,HN,HR,HT,HU,ID,IE,IL,IM,IN,IO,IQ,IR,IS,IT,JE,JM,JO,JP,KE,KG,KH,KI,KM,KN,KP,KR,KW,KY,KZ,LA,LB,LC,LI,LK,LR,LS,LT,LU,LV,LY,MA,MC,MD,ME,MG,MH,MK,ML,MM,MN,MO,MP,MQ,MR,MS,MT,MU,MV,MW,MX,MY,MZ,NA,NC,NE,NF,NG,NI,NL,NO,NP,NR,NU,NZ,OM,PA,PE,PF,PG,PH,PK,PL,PM,PN,PR,PS,PT,PW,PY,QA,RE,RO,RS,RU,RW,SA,SB,SC,SD,SE,SG,SH,SI,SJ,SK,SL,SM,SN,SO,SR,ST,SV,SY,SZ,TC,TD,TF,TG,TH,TJ,TK,TL,TM,TN,TO,TR,TT,TV,TW,TZ,UA,UG,UM,US,UY,UZ,VA,VC,VE,VG,VI,VN,VU,WF,WS,XK,YE,YT,ZA,ZM,ZW\""
      ],
      "execution_count": 0,
      "outputs": []
    },
    {
      "cell_type": "code",
      "metadata": {
        "id": "84X-49oORXIW",
        "colab_type": "code",
        "colab": {}
      },
      "source": [
        "country_list = country_list.split(\",\")"
      ],
      "execution_count": 0,
      "outputs": []
    },
    {
      "cell_type": "code",
      "metadata": {
        "id": "n926-miUTSCI",
        "colab_type": "code",
        "colab": {}
      },
      "source": [
        "lat_list = \"42.546245,23.424076,33.93911,17.060816,18.220554,41.153332,40.069099,12.226079,-11.202692,-75.250973,-38.416097,-14.270972,47.516231,-25.274398,12.52111,40.143105,43.915886,13.193887,23.684994,50.503887,12.238333,42.733883,25.930414,-3.373056,9.30769,32.321384,4.535277,-16.290154,-14.235004,25.03428,27.514162,-54.423199,-22.328474,53.709807,17.189877,56.130366,-12.164165,-4.038333,6.611111,-0.228021,46.818188,7.539989,-21.236736,-35.675147,7.369722,35.86166,4.570868,9.748917,21.521757,16.002082,-10.447525,35.126413,49.817492,51.165691,11.825138,56.26392,15.414999,18.735693,28.033886,-1.831239,58.595272,26.820553,24.215527,15.179384,40.463667,9.145,61.92411,-16.578193,-51.796253,7.425554,61.892635,46.227638,-0.803689,55.378051,12.262776,42.315407,3.933889,49.465691,7.946527,36.137741,71.706936,13.443182,9.945587,16.995971,1.650801,39.074208,-54.429579,15.783471,13.444304,11.803749,4.860416,31.354676,22.396428,-53.08181,15.199999,45.1,18.971187,47.162494,-0.789275,53.41291,31.046051,54.236107,20.593684,-6.343194,33.223191,32.427908,64.963051,41.87194,49.214439,18.109581,30.585164,36.204824,-0.023559,41.20438,12.565679,-3.370417,-11.875001,17.357822,40.339852,35.907757,29.31166,19.513469,48.019573,19.85627,33.854721,13.909444,47.166,7.873054,6.428055,-29.609988,55.169438,49.815273,56.879635,26.3351,31.791702,43.750298,47.411631,42.708678,-18.766947,7.131474,41.608635,17.570692,21.913965,46.862496,22.198745,17.33083,14.641528,21.00789,16.742498,35.937496,-20.348404,3.202778,-13.254308,23.634501,4.210484,-18.665695,-22.95764,-20.904305,17.607789,-29.040835,9.081999,12.865416,52.132633,60.472024,28.394857,-0.522778,-19.054445,-40.900557,21.512583,8.537981,-9.189967,-17.679742,-6.314993,12.879721,30.375321,51.919438,46.941936,-24.703615,18.220833,31.952162,39.399872,7.51498,-23.442503,25.354826,-21.115141,45.943161,44.016521,61.52401,-1.940278,23.885942,-9.64571,-4.679574,12.862807,60.128161,1.352083,-24.143474,46.151241,77.553604,48.669026,8.460555,43.94236,14.497401,5.152149,3.919305,0.18636,13.794185,34.802075,-26.522503,21.694025,15.454166,-49.280366,8.619543,15.870032,38.861034,-8.967363,-8.874217,38.969719,33.886917,-21.178986,38.963745,10.691803,-7.109535,23.69781,-6.369028,48.379433,1.373333,,37.09024,-32.522779,41.377491,41.902916,12.984305,6.42375,18.420695,18.335765,14.058324,-15.376706,-13.768752,-13.759029,42.602636,15.552727,-12.8275,-30.559482,-13.133897,-19.015438\""
      ],
      "execution_count": 0,
      "outputs": []
    },
    {
      "cell_type": "code",
      "metadata": {
        "id": "gDzn4ce-Tb48",
        "colab_type": "code",
        "colab": {}
      },
      "source": [
        "lat_list = lat_list.split(\",\")"
      ],
      "execution_count": 0,
      "outputs": []
    },
    {
      "cell_type": "code",
      "metadata": {
        "id": "TOTnORMUTiJv",
        "colab_type": "code",
        "colab": {}
      },
      "source": [
        "long_list = \"1.601554,53.847818,67.709953,-61.796428,-63.068615,20.168331,45.038189,-69.060087,17.873887,-0.071389,-63.616672,-170.132217,14.550072,133.775136,-69.968338,47.576927,17.679076,-59.543198,90.356331,4.469936,-1.561593,25.48583,50.637772,29.918886,2.315834,-64.75737,114.727669,-63.588653,-51.92528,-77.39628,90.433601,3.413194,24.684866,27.953389,-88.49765,-106.346771,96.870956,21.758664,20.939444,15.827659,8.227512,-5.54708,-159.777671,-71.542969,12.354722,104.195397,-74.297333,-83.753428,-77.781167,-24.013197,105.690449,33.429859,15.472962,10.451526,42.590275,9.501785,-61.370976,-70.162651,1.659626,-78.183406,25.013607,30.802498,-12.885834,39.782334,-3.74922,40.489673,25.748151,179.414413,-59.523613,150.550812,-6.911806,2.213749,11.609444,-3.435973,-61.604171,43.356892,-53.125782,-2.585278,-1.023194,-5.345374,-42.604303,-15.310139,-9.696645,-62.067641,10.267895,21.824312,-36.587909,-90.230759,144.793731,-15.180413,-58.93018,34.308825,114.109497,73.504158,-86.241905,15.2,-72.285215,19.503304,113.921327,-8.24389,34.851612,-4.548056,78.96288,71.876519,43.679291,53.688046,-19.020835,12.56738,-2.13125,-77.297508,36.238414,138.252924,37.906193,74.766098,104.990963,-168.734039,43.872219,-62.782998,127.510093,127.766922,47.481766,-80.566956,66.923684,102.495496,35.862285,-60.978893,9.555373,80.771797,-9.429499,28.233608,23.881275,6.129583,24.603189,17.228331,-7.09262,7.412841,28.369885,19.37439,46.869107,171.184478,21.745275,-3.996166,95.956223,103.846656,113.543873,145.38469,-61.024174,-10.940835,-62.187366,14.375416,57.552152,73.22068,34.301525,-102.552784,101.975766,35.529562,18.49041,165.618042,8.081666,167.954712,8.675277,-85.207229,5.291266,8.468946,84.124008,166.931503,-169.867233,174.885971,55.923255,-80.782127,-75.015152,-149.406843,143.95555,121.774017,69.345116,19.145136,-56.27111,-127.439308,-66.590149,35.233154,-8.224454,134.58252,-58.443832,51.183884,55.536384,24.96676,21.005859,105.318756,29.873888,45.079162,160.156194,55.491977,30.217636,18.643501,103.819836,-10.030696,14.995463,23.670272,19.699024,-11.779889,12.457777,-14.452362,46.199616,-56.027783,6.613081,-88.89653,38.996815,31.465866,-71.797928,18.732207,69.348557,0.824782,100.992541,71.276093,-171.855881,125.727539,59.556278,9.537499,-175.198242,35.243322,-61.222503,177.64933,120.960515,34.888822,31.16558,32.290275,,-95.712891,-55.765835,64.585262,12.453389,-61.287228,-66.58973,-64.639968,-64.896335,108.277199,166.959158,-177.156097,-172.104629,20.902977,48.516388,45.166244,22.937506,27.849332,29.154857\""
      ],
      "execution_count": 0,
      "outputs": []
    },
    {
      "cell_type": "code",
      "metadata": {
        "id": "N-lpHlK-TqqQ",
        "colab_type": "code",
        "colab": {}
      },
      "source": [
        "long_list = long_list.split(\",\")"
      ],
      "execution_count": 0,
      "outputs": []
    },
    {
      "cell_type": "code",
      "metadata": {
        "id": "nkdYNMraUWuK",
        "colab_type": "code",
        "colab": {
          "base_uri": "https://localhost:8080/",
          "height": 34
        },
        "outputId": "712f41a4-df96-4cbf-a02f-dd89bda30ec8"
      },
      "source": [
        "long_list[:3]"
      ],
      "execution_count": 14,
      "outputs": [
        {
          "output_type": "execute_result",
          "data": {
            "text/plain": [
              "['1.601554', '53.847818', '67.709953']"
            ]
          },
          "metadata": {
            "tags": []
          },
          "execution_count": 14
        }
      ]
    },
    {
      "cell_type": "code",
      "metadata": {
        "id": "43hdiMbiUeJd",
        "colab_type": "code",
        "colab": {
          "base_uri": "https://localhost:8080/",
          "height": 34
        },
        "outputId": "b21eb249-c63a-4552-c6f1-ad747dfe2b5c"
      },
      "source": [
        "float(long_list[2])"
      ],
      "execution_count": 15,
      "outputs": [
        {
          "output_type": "execute_result",
          "data": {
            "text/plain": [
              "67.709953"
            ]
          },
          "metadata": {
            "tags": []
          },
          "execution_count": 15
        }
      ]
    },
    {
      "cell_type": "code",
      "metadata": {
        "id": "EdFa-ICgUxHJ",
        "colab_type": "code",
        "colab": {
          "base_uri": "https://localhost:8080/",
          "height": 34
        },
        "outputId": "00d8d130-45be-406d-b968-5efcc59e7458"
      },
      "source": [
        "len(long_list)"
      ],
      "execution_count": 16,
      "outputs": [
        {
          "output_type": "execute_result",
          "data": {
            "text/plain": [
              "245"
            ]
          },
          "metadata": {
            "tags": []
          },
          "execution_count": 16
        }
      ]
    },
    {
      "cell_type": "code",
      "metadata": {
        "id": "qK-Qell7U2-V",
        "colab_type": "code",
        "colab": {
          "base_uri": "https://localhost:8080/",
          "height": 34
        },
        "outputId": "f53294d6-5fae-45a3-9503-74a3dcf6a7b4"
      },
      "source": [
        "long_list[226]"
      ],
      "execution_count": 17,
      "outputs": [
        {
          "output_type": "execute_result",
          "data": {
            "text/plain": [
              "''"
            ]
          },
          "metadata": {
            "tags": []
          },
          "execution_count": 17
        }
      ]
    },
    {
      "cell_type": "code",
      "metadata": {
        "id": "KH3wvLn9TtpF",
        "colab_type": "code",
        "colab": {
          "base_uri": "https://localhost:8080/",
          "height": 323
        },
        "outputId": "f49c07ab-1904-4c70-9b22-82c792ce7c6c"
      },
      "source": [
        "import numpy as np\n",
        "cc = []\n",
        "continent_code = []\n",
        "for i in range(len(lat_list)):\n",
        "  try:\n",
        "    if i == 226:\n",
        "      continue\n",
        "    continent_code.append(country_continent[country_list[i]])\n",
        "    code = [float(lat_list[i]), float(long_list[i])]\n",
        "    cc.append(code)\n",
        "  except:\n",
        "    print(i)\n",
        "    print(lat_list[i])\n",
        "    print(long_list[i])\n",
        "cc = np.array(cc)"
      ],
      "execution_count": 18,
      "outputs": [
        {
          "output_type": "stream",
          "text": [
            "31\n",
            "-54.423199\n",
            "3.413194\n",
            "91\n",
            "31.354676\n",
            "34.308825\n",
            "93\n",
            "-53.08181\n",
            "73.504158\n",
            "215\n",
            "-8.874217\n",
            "125.727539\n",
            "230\n",
            "41.902916\n",
            "12.453389\n",
            "239\n",
            "42.602636\n",
            "20.902977\n"
          ],
          "name": "stdout"
        }
      ]
    },
    {
      "cell_type": "code",
      "metadata": {
        "id": "VFZBEhSwT_rP",
        "colab_type": "code",
        "colab": {
          "base_uri": "https://localhost:8080/",
          "height": 34
        },
        "outputId": "d613c863-6292-4ac4-a7cd-e3ae6214a7fe"
      },
      "source": [
        "len(country_list)"
      ],
      "execution_count": 19,
      "outputs": [
        {
          "output_type": "execute_result",
          "data": {
            "text/plain": [
              "245"
            ]
          },
          "metadata": {
            "tags": []
          },
          "execution_count": 19
        }
      ]
    },
    {
      "cell_type": "code",
      "metadata": {
        "id": "WXr09veyVOAv",
        "colab_type": "code",
        "colab": {
          "base_uri": "https://localhost:8080/",
          "height": 34
        },
        "outputId": "4918bb3e-62c6-4f88-8ec8-b1cbede4737b"
      },
      "source": [
        "cc.shape"
      ],
      "execution_count": 20,
      "outputs": [
        {
          "output_type": "execute_result",
          "data": {
            "text/plain": [
              "(238, 2)"
            ]
          },
          "metadata": {
            "tags": []
          },
          "execution_count": 20
        }
      ]
    },
    {
      "cell_type": "code",
      "metadata": {
        "id": "AyyLKVIKVR-O",
        "colab_type": "code",
        "colab": {
          "base_uri": "https://localhost:8080/",
          "height": 34
        },
        "outputId": "e6117a1f-e83c-42a6-f6ea-8dd9b7d1b9bb"
      },
      "source": [
        "len(continent_code)"
      ],
      "execution_count": 21,
      "outputs": [
        {
          "output_type": "execute_result",
          "data": {
            "text/plain": [
              "238"
            ]
          },
          "metadata": {
            "tags": []
          },
          "execution_count": 21
        }
      ]
    },
    {
      "cell_type": "code",
      "metadata": {
        "id": "wmKqjazyXNfR",
        "colab_type": "code",
        "colab": {}
      },
      "source": [
        " cont = set(continent_code)"
      ],
      "execution_count": 0,
      "outputs": []
    },
    {
      "cell_type": "code",
      "metadata": {
        "id": "Jiazqr3SXS_F",
        "colab_type": "code",
        "colab": {
          "base_uri": "https://localhost:8080/",
          "height": 136
        },
        "outputId": "eb8f1c1b-48cb-49bd-a597-17b65905e145"
      },
      "source": [
        "cont"
      ],
      "execution_count": 23,
      "outputs": [
        {
          "output_type": "execute_result",
          "data": {
            "text/plain": [
              "{'Africa',\n",
              " 'Antarctica',\n",
              " 'Asia',\n",
              " 'Australia',\n",
              " 'Europe',\n",
              " 'North America',\n",
              " 'South America'}"
            ]
          },
          "metadata": {
            "tags": []
          },
          "execution_count": 23
        }
      ]
    },
    {
      "cell_type": "code",
      "metadata": {
        "id": "atFIMdXqXUmg",
        "colab_type": "code",
        "colab": {}
      },
      "source": [
        "cont_dict = {\"Africa\": 0, \"Antarctica\":1, \"Asia\":2, \"Australia\":3, \"Europe\":4, \"North America\":5, \"South America\":6}"
      ],
      "execution_count": 0,
      "outputs": []
    },
    {
      "cell_type": "code",
      "metadata": {
        "id": "xHalcCjJXkon",
        "colab_type": "code",
        "colab": {}
      },
      "source": [
        "y=[]\n",
        "for con in continent_code:\n",
        "  y.append(cont_dict[con])"
      ],
      "execution_count": 0,
      "outputs": []
    },
    {
      "cell_type": "code",
      "metadata": {
        "id": "ltdsq88eVXDq",
        "colab_type": "code",
        "colab": {}
      },
      "source": [
        "train_X = cc[:200]\n",
        "train_Y = y[:200]\n",
        "val_X = cc[200:]\n",
        "val_Y = y[200:]"
      ],
      "execution_count": 0,
      "outputs": []
    },
    {
      "cell_type": "code",
      "metadata": {
        "id": "xP1nMEGLXzQ4",
        "colab_type": "code",
        "colab": {
          "base_uri": "https://localhost:8080/",
          "height": 34
        },
        "outputId": "ceb3b85d-12e3-451c-8d6a-7a967ef770ba"
      },
      "source": [
        "from sklearn.linear_model import LogisticRegression\n",
        "\n",
        "clf = LogisticRegression(random_state=0,max_iter = 10000).fit(train_X, train_Y)\n",
        "\n",
        "clf.score(train_X, train_Y)"
      ],
      "execution_count": 27,
      "outputs": [
        {
          "output_type": "execute_result",
          "data": {
            "text/plain": [
              "0.81"
            ]
          },
          "metadata": {
            "tags": []
          },
          "execution_count": 27
        }
      ]
    },
    {
      "cell_type": "code",
      "metadata": {
        "id": "dePQv0jfXyqZ",
        "colab_type": "code",
        "colab": {
          "base_uri": "https://localhost:8080/",
          "height": 34
        },
        "outputId": "fd9db29c-7e67-4816-f875-0a2476d7cddb"
      },
      "source": [
        "clf.score(val_X, val_Y)"
      ],
      "execution_count": 28,
      "outputs": [
        {
          "output_type": "execute_result",
          "data": {
            "text/plain": [
              "0.7105263157894737"
            ]
          },
          "metadata": {
            "tags": []
          },
          "execution_count": 28
        }
      ]
    },
    {
      "cell_type": "code",
      "metadata": {
        "id": "rOWZDRZKYZj4",
        "colab_type": "code",
        "colab": {
          "base_uri": "https://localhost:8080/",
          "height": 34
        },
        "outputId": "74e20be0-2c77-4531-c22b-9e2506d6550d"
      },
      "source": [
        "clf = LogisticRegression(random_state=0,max_iter = 10000).fit(cc, y)\n",
        "\n",
        "clf.score(cc, y)"
      ],
      "execution_count": 29,
      "outputs": [
        {
          "output_type": "execute_result",
          "data": {
            "text/plain": [
              "0.7563025210084033"
            ]
          },
          "metadata": {
            "tags": []
          },
          "execution_count": 29
        }
      ]
    },
    {
      "cell_type": "code",
      "metadata": {
        "id": "n0PukJ3OYfcJ",
        "colab_type": "code",
        "colab": {
          "base_uri": "https://localhost:8080/",
          "height": 338
        },
        "outputId": "94bdf880-e8b1-49d1-b82a-5390a268556d"
      },
      "source": [
        "import matplotlib.pyplot as plt \n",
        "cont_dict = {\"Africa\": 0, \"Antarctica\":1, \"Asia\":2, \"Australia\":3, \"Europe\":4, \"North America\":5, \"South America\":6}\n",
        "Xax=cc[:,0]\n",
        "Yax=cc[:,1]\n",
        "labels=y\n",
        "cdict={0:'red',1:'green',2:'blue', 3:'pink',4:\"grey\",5:\"black\", 6:'yellow'}\n",
        "labl={0:'Africa',1:'Antractica',2:\"Asia\",3:\"Australia\",4:\"Europe\",5:\"NA\", 6:\"SA\"}\n",
        "fig,ax=plt.subplots(figsize=(7,5))\n",
        "fig.patch.set_facecolor('white')\n",
        "for l in np.unique(labels):\n",
        " ix=np.where(labels==l)\n",
        " ax.scatter(Xax[ix],Yax[ix],c=cdict[l],s=40,\n",
        "           label=labl[l])\n",
        "# for loop ends\n",
        "plt.xlabel(\"First Principal Component\",fontsize=14)\n",
        "plt.ylabel(\"Second Principal Component\",fontsize=14)\n",
        "plt.legend()\n",
        "plt.show()"
      ],
      "execution_count": 30,
      "outputs": [
        {
          "output_type": "display_data",
          "data": {
            "image/png": "[encoded data removed]",
            "text/plain": [
              "<Figure size 504x360 with 1 Axes>"
            ]
          },
          "metadata": {
            "tags": []
          }
        }
      ]
    },
    {
      "cell_type": "code",
      "metadata": {
        "id": "11loYNKiYj_o",
        "colab_type": "code",
        "colab": {
          "base_uri": "https://localhost:8080/",
          "height": 208
        },
        "outputId": "cc1fee1f-586a-4b95-956f-d096824352b4"
      },
      "source": [
        "cc = cc[:30]\n",
        "y = y[:30]\n",
        "x_min, x_max = cc[:, 0].min() - .5, cc[:, 0].max() + .5\n",
        "y_min, y_max = cc[:, 1].min() - .5, cc[:, 1].max() + .5\n",
        "h = .02  # step size in the mesh\n",
        "xx, yy = np.meshgrid(np.arange(x_min, x_max, h), np.arange(y_min, y_max, h))\n",
        "Z = clf.predict(np.c_[xx.ravel(), yy.ravel()])\n",
        "\n",
        "# Put the result into a color plot\n",
        "Z = Z.reshape(xx.shape)\n",
        "plt.figure(1, figsize=(4, 3))\n",
        "plt.pcolormesh(xx, yy, Z, cmap=plt.cm.Paired)\n",
        "\n",
        "# Plot also the training points\n",
        "plt.scatter(cc[:, 0], cc[:, 1], c=y, edgecolors='k', cmap=plt.cm.Paired)\n",
        "plt.xlabel('Sepal length')\n",
        "plt.ylabel('Sepal width')\n",
        "\n",
        "plt.xlim(xx.min(), xx.max())\n",
        "plt.ylim(yy.min(), yy.max())\n",
        "plt.xticks(())\n",
        "plt.yticks(())\n",
        "\n",
        "plt.show()"
      ],
      "execution_count": 31,
      "outputs": [
        {
          "output_type": "display_data",
          "data": {
            "image/png": "[encoded data removed]",
            "text/plain": [
              "<Figure size 288x216 with 1 Axes>"
            ]
          },
          "metadata": {
            "tags": []
          }
        }
      ]
    },
    {
      "cell_type": "code",
      "metadata": {
        "id": "Em3qZ0OIbsHP",
        "colab_type": "code",
        "colab": {}
      },
      "source": [
        ""
      ],
      "execution_count": 0,
      "outputs": []
    }
  ]
}